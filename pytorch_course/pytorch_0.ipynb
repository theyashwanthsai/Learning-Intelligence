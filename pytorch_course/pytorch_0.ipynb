{
 "cells": [
  {
   "cell_type": "code",
   "execution_count": 1,
   "id": "5699c457",
   "metadata": {},
   "outputs": [],
   "source": [
    "import torch"
   ]
  },
  {
   "cell_type": "code",
   "execution_count": 3,
   "id": "ac17599c",
   "metadata": {},
   "outputs": [
    {
     "data": {
      "text/plain": [
       "tensor(7)"
      ]
     },
     "execution_count": 3,
     "metadata": {},
     "output_type": "execute_result"
    }
   ],
   "source": [
    "scalar = torch.tensor(7)\n",
    "scalar"
   ]
  },
  {
   "cell_type": "code",
   "execution_count": 5,
   "id": "49616d66",
   "metadata": {},
   "outputs": [
    {
     "data": {
      "text/plain": [
       "7"
      ]
     },
     "execution_count": 5,
     "metadata": {},
     "output_type": "execute_result"
    }
   ],
   "source": [
    "scalar.item()"
   ]
  },
  {
   "cell_type": "code",
   "execution_count": 6,
   "id": "2fd354b9",
   "metadata": {},
   "outputs": [
    {
     "data": {
      "text/plain": [
       "0"
      ]
     },
     "execution_count": 6,
     "metadata": {},
     "output_type": "execute_result"
    }
   ],
   "source": [
    "scalar.ndim"
   ]
  },
  {
   "cell_type": "code",
   "execution_count": 8,
   "id": "ab3c150f",
   "metadata": {},
   "outputs": [
    {
     "data": {
      "text/plain": [
       "tensor([[ 7,  8],\n",
       "        [ 9, 10]])"
      ]
     },
     "execution_count": 8,
     "metadata": {},
     "output_type": "execute_result"
    }
   ],
   "source": [
    "MATRIX = torch.tensor([[7, 8], [9, 10]])\n",
    "\n",
    "MATRIX"
   ]
  },
  {
   "cell_type": "code",
   "execution_count": 9,
   "id": "16da37e7",
   "metadata": {},
   "outputs": [
    {
     "data": {
      "text/plain": [
       "2"
      ]
     },
     "execution_count": 9,
     "metadata": {},
     "output_type": "execute_result"
    }
   ],
   "source": [
    "MATRIX.ndim"
   ]
  },
  {
   "cell_type": "code",
   "execution_count": 10,
   "id": "3a1fcc34",
   "metadata": {},
   "outputs": [
    {
     "data": {
      "text/plain": [
       "torch.Size([2, 2])"
      ]
     },
     "execution_count": 10,
     "metadata": {},
     "output_type": "execute_result"
    }
   ],
   "source": [
    "MATRIX.shape"
   ]
  },
  {
   "cell_type": "code",
   "execution_count": 17,
   "id": "d043b853",
   "metadata": {},
   "outputs": [
    {
     "data": {
      "text/plain": [
       "torch.Size([3, 3])"
      ]
     },
     "execution_count": 17,
     "metadata": {},
     "output_type": "execute_result"
    }
   ],
   "source": [
    "tensor = torch.tensor([[1, 2, 3], [4, 5, 6], [7, 8, 9]])\n",
    "tensor.shape"
   ]
  },
  {
   "cell_type": "code",
   "execution_count": 18,
   "id": "5655cad1",
   "metadata": {},
   "outputs": [
    {
     "data": {
      "text/plain": [
       "tensor([[0.2147, 0.8589, 0.8897, 0.9058, 0.1189, 0.6439],\n",
       "        [0.6691, 0.5319, 0.6334, 0.1381, 0.2192, 0.3879],\n",
       "        [0.1449, 0.3579, 0.8954, 0.2149, 0.8340, 0.5383],\n",
       "        [0.9545, 0.8720, 0.3863, 0.3954, 0.2543, 0.9039],\n",
       "        [0.4427, 0.2497, 0.2305, 0.3642, 0.5411, 0.8394]])"
      ]
     },
     "execution_count": 18,
     "metadata": {},
     "output_type": "execute_result"
    }
   ],
   "source": [
    "random_tensor = torch.rand(5, 6)\n",
    "random_tensor"
   ]
  },
  {
   "cell_type": "code",
   "execution_count": 20,
   "id": "3ef20407",
   "metadata": {},
   "outputs": [
    {
     "data": {
      "text/plain": [
       "tensor([[0., 0., 0., 0., 0., 0.],\n",
       "        [0., 0., 0., 0., 0., 0.],\n",
       "        [0., 0., 0., 0., 0., 0.],\n",
       "        [0., 0., 0., 0., 0., 0.],\n",
       "        [0., 0., 0., 0., 0., 0.]])"
      ]
     },
     "execution_count": 20,
     "metadata": {},
     "output_type": "execute_result"
    }
   ],
   "source": [
    "zeros = torch.zeros(5,6)\n",
    "zeros"
   ]
  },
  {
   "cell_type": "code",
   "execution_count": 22,
   "id": "b4ec929f",
   "metadata": {},
   "outputs": [
    {
     "data": {
      "text/plain": [
       "tensor([[1., 1., 1., 1., 1., 1., 1.],\n",
       "        [1., 1., 1., 1., 1., 1., 1.],\n",
       "        [1., 1., 1., 1., 1., 1., 1.],\n",
       "        [1., 1., 1., 1., 1., 1., 1.],\n",
       "        [1., 1., 1., 1., 1., 1., 1.],\n",
       "        [1., 1., 1., 1., 1., 1., 1.]])"
      ]
     },
     "execution_count": 22,
     "metadata": {},
     "output_type": "execute_result"
    }
   ],
   "source": [
    "ones = torch.ones(6,7)\n",
    "ones"
   ]
  },
  {
   "cell_type": "code",
   "execution_count": 25,
   "id": "b2e97321",
   "metadata": {},
   "outputs": [
    {
     "data": {
      "text/plain": [
       "tensor([0.0000, 1.2000, 2.4000, 3.6000, 4.8000, 6.0000])"
      ]
     },
     "execution_count": 25,
     "metadata": {},
     "output_type": "execute_result"
    }
   ],
   "source": [
    "range_tensor = torch.arange(start=0, end=7, step=1.2)\n",
    "range_tensor"
   ]
  },
  {
   "cell_type": "code",
   "execution_count": 26,
   "id": "a8ec1832",
   "metadata": {},
   "outputs": [
    {
     "data": {
      "text/plain": [
       "tensor([0., 0., 0., 0., 0., 0.])"
      ]
     },
     "execution_count": 26,
     "metadata": {},
     "output_type": "execute_result"
    }
   ],
   "source": [
    "zeros_like = torch.zeros_like(range_tensor)\n",
    "zeros_like"
   ]
  },
  {
   "cell_type": "code",
   "execution_count": 30,
   "id": "eebb78bc",
   "metadata": {},
   "outputs": [
    {
     "data": {
      "text/plain": [
       "torch.float32"
      ]
     },
     "execution_count": 30,
     "metadata": {},
     "output_type": "execute_result"
    }
   ],
   "source": [
    "float32_tensor = torch.tensor([1.0, 2, 3], dtype=None)\n",
    "float32_tensor.dtype"
   ]
  },
  {
   "cell_type": "code",
   "execution_count": 32,
   "id": "73bc37bc",
   "metadata": {},
   "outputs": [
    {
     "data": {
      "text/plain": [
       "torch.float16"
      ]
     },
     "execution_count": 32,
     "metadata": {},
     "output_type": "execute_result"
    }
   ],
   "source": [
    "float16_tensor = float32_tensor.type(torch.float16)\n",
    "float16_tensor.dtype"
   ]
  },
  {
   "cell_type": "code",
   "execution_count": 33,
   "id": "6dd330e4",
   "metadata": {},
   "outputs": [
    {
     "data": {
      "text/plain": [
       "device(type='cpu')"
      ]
     },
     "execution_count": 33,
     "metadata": {},
     "output_type": "execute_result"
    }
   ],
   "source": [
    "float16_tensor.device"
   ]
  },
  {
   "cell_type": "code",
   "execution_count": 36,
   "id": "c8563a42",
   "metadata": {},
   "outputs": [
    {
     "data": {
      "text/plain": [
       "tensor([11, 12, 13])"
      ]
     },
     "execution_count": 36,
     "metadata": {},
     "output_type": "execute_result"
    }
   ],
   "source": [
    "tensor = torch.tensor([1, 2, 3])\n",
    "\n",
    "tensor + 10"
   ]
  },
  {
   "cell_type": "code",
   "execution_count": null,
   "id": "19d27cc5",
   "metadata": {},
   "outputs": [
    {
     "data": {
      "text/plain": [
       "tensor([-9, -8, -7])"
      ]
     },
     "execution_count": 37,
     "metadata": {},
     "output_type": "execute_result"
    }
   ],
   "source": [
    "tensor - 10"
   ]
  },
  {
   "cell_type": "code",
   "execution_count": 38,
   "id": "6115a770",
   "metadata": {},
   "outputs": [
    {
     "data": {
      "text/plain": [
       "tensor([10, 20, 30])"
      ]
     },
     "execution_count": 38,
     "metadata": {},
     "output_type": "execute_result"
    }
   ],
   "source": [
    "tensor * 10"
   ]
  },
  {
   "cell_type": "code",
   "execution_count": null,
   "id": "f309e3e7",
   "metadata": {},
   "outputs": [
    {
     "data": {
      "text/plain": [
       "tensor([1, 4, 9])"
      ]
     },
     "execution_count": 39,
     "metadata": {},
     "output_type": "execute_result"
    }
   ],
   "source": [
    "# Matrix Multiplication\n",
    "# matmul\n",
    "\n",
    "tensor = torch.tensor([1, 2, 3])\n",
    "\n",
    "# Element Wise Multiplication\n",
    "tensor*tensor"
   ]
  },
  {
   "cell_type": "code",
   "execution_count": 40,
   "id": "46109c08",
   "metadata": {},
   "outputs": [
    {
     "data": {
      "text/plain": [
       "tensor(14)"
      ]
     },
     "execution_count": 40,
     "metadata": {},
     "output_type": "execute_result"
    }
   ],
   "source": [
    "# Matrix Multiplication\n",
    "\n",
    "torch.matmul(tensor, tensor)"
   ]
  },
  {
   "cell_type": "code",
   "execution_count": 41,
   "id": "f181e0e3",
   "metadata": {},
   "outputs": [],
   "source": [
    "tensor = torch.tensor([[1, 2, 3], [2, 3, 4]])"
   ]
  },
  {
   "cell_type": "code",
   "execution_count": 42,
   "id": "040098e5",
   "metadata": {},
   "outputs": [
    {
     "ename": "RuntimeError",
     "evalue": "mat1 and mat2 shapes cannot be multiplied (2x3 and 2x3)",
     "output_type": "error",
     "traceback": [
      "\u001b[0;31m---------------------------------------------------------------------------\u001b[0m",
      "\u001b[0;31mRuntimeError\u001b[0m                              Traceback (most recent call last)",
      "Cell \u001b[0;32mIn[42], line 1\u001b[0m\n\u001b[0;32m----> 1\u001b[0m \u001b[43mtorch\u001b[49m\u001b[38;5;241;43m.\u001b[39;49m\u001b[43mmatmul\u001b[49m\u001b[43m(\u001b[49m\u001b[43mtensor\u001b[49m\u001b[43m,\u001b[49m\u001b[43m \u001b[49m\u001b[43mtensor\u001b[49m\u001b[43m)\u001b[49m\n",
      "\u001b[0;31mRuntimeError\u001b[0m: mat1 and mat2 shapes cannot be multiplied (2x3 and 2x3)"
     ]
    }
   ],
   "source": [
    "torch.matmul(tensor, tensor)"
   ]
  },
  {
   "cell_type": "code",
   "execution_count": 43,
   "id": "761c169e",
   "metadata": {},
   "outputs": [
    {
     "data": {
      "text/plain": [
       "tensor([[14, 20],\n",
       "        [20, 29]])"
      ]
     },
     "execution_count": 43,
     "metadata": {},
     "output_type": "execute_result"
    }
   ],
   "source": [
    "torch.matmul(tensor, tensor.T)"
   ]
  },
  {
   "cell_type": "code",
   "execution_count": 44,
   "id": "5bd9d112",
   "metadata": {},
   "outputs": [
    {
     "data": {
      "text/plain": [
       "tensor([0.0000, 1.3400, 2.6800, 4.0200, 5.3600, 6.7000, 8.0400, 9.3800])"
      ]
     },
     "execution_count": 44,
     "metadata": {},
     "output_type": "execute_result"
    }
   ],
   "source": [
    "tensor = torch.arange(0, 10, 1.34)\n",
    "tensor"
   ]
  },
  {
   "cell_type": "code",
   "execution_count": 46,
   "id": "d60d1fab",
   "metadata": {},
   "outputs": [
    {
     "data": {
      "text/plain": [
       "(tensor(0.), tensor(9.3800), tensor(37.5200))"
      ]
     },
     "execution_count": 46,
     "metadata": {},
     "output_type": "execute_result"
    }
   ],
   "source": [
    "tensor.min(), tensor.max(), tensor.sum()"
   ]
  },
  {
   "cell_type": "code",
   "execution_count": 47,
   "id": "b1d955db",
   "metadata": {},
   "outputs": [
    {
     "data": {
      "text/plain": [
       "tensor(4.6900)"
      ]
     },
     "execution_count": 47,
     "metadata": {},
     "output_type": "execute_result"
    }
   ],
   "source": [
    "tensor.mean()"
   ]
  },
  {
   "cell_type": "code",
   "execution_count": 54,
   "id": "28a47658",
   "metadata": {},
   "outputs": [
    {
     "data": {
      "text/plain": [
       "tensor(4.5000)"
      ]
     },
     "execution_count": 54,
     "metadata": {},
     "output_type": "execute_result"
    }
   ],
   "source": [
    "tensor = torch.arange(0, 10, 1)\n",
    "# tensor.mean() # Error\n",
    "\n",
    "tensor = tensor.type(dtype=torch.float32)\n",
    "tensor.mean()"
   ]
  },
  {
   "cell_type": "code",
   "execution_count": 55,
   "id": "c8e2ff1c",
   "metadata": {},
   "outputs": [
    {
     "data": {
      "text/plain": [
       "tensor(9)"
      ]
     },
     "execution_count": 55,
     "metadata": {},
     "output_type": "execute_result"
    }
   ],
   "source": [
    "tensor.argmax()"
   ]
  },
  {
   "cell_type": "code",
   "execution_count": 56,
   "id": "890eca18",
   "metadata": {},
   "outputs": [
    {
     "data": {
      "text/plain": [
       "tensor(0)"
      ]
     },
     "execution_count": 56,
     "metadata": {},
     "output_type": "execute_result"
    }
   ],
   "source": [
    "tensor.argmin()"
   ]
  },
  {
   "cell_type": "code",
   "execution_count": 59,
   "id": "da5908d4",
   "metadata": {},
   "outputs": [
    {
     "data": {
      "text/plain": [
       "(tensor([1., 2., 3., 4., 5., 6., 7., 8., 9.]),\n",
       " tensor([[1., 2., 3.],\n",
       "         [4., 5., 6.],\n",
       "         [7., 8., 9.]]))"
      ]
     },
     "execution_count": 59,
     "metadata": {},
     "output_type": "execute_result"
    }
   ],
   "source": [
    "x = torch.arange(1., 10.)\n",
    "\n",
    "x_reshape_view = x.view(3,3)\n",
    "\n",
    "x, x_reshape_view"
   ]
  },
  {
   "cell_type": "code",
   "execution_count": 61,
   "id": "b63b7df0",
   "metadata": {},
   "outputs": [
    {
     "data": {
      "text/plain": [
       "(tensor([[1., 2., 3.],\n",
       "         [4., 5., 6.],\n",
       "         [7., 8., 9.]]),\n",
       " tensor([1., 2., 3., 4., 5., 6., 7., 8., 9.]))"
      ]
     },
     "execution_count": 61,
     "metadata": {},
     "output_type": "execute_result"
    }
   ],
   "source": [
    "x.reshape(3,3), x"
   ]
  },
  {
   "cell_type": "code",
   "execution_count": 62,
   "id": "f6ff731e",
   "metadata": {},
   "outputs": [
    {
     "data": {
      "text/plain": [
       "tensor([1., 2., 3., 4., 5., 6., 7., 8., 9.])"
      ]
     },
     "execution_count": 62,
     "metadata": {},
     "output_type": "execute_result"
    }
   ],
   "source": [
    "x"
   ]
  },
  {
   "cell_type": "code",
   "execution_count": 65,
   "id": "37202fd1",
   "metadata": {},
   "outputs": [
    {
     "data": {
      "text/plain": [
       "tensor([[1., 2., 3., 4., 5., 6., 7., 8., 9.],\n",
       "        [1., 2., 3., 4., 5., 6., 7., 8., 9.],\n",
       "        [1., 2., 3., 4., 5., 6., 7., 8., 9.]])"
      ]
     },
     "execution_count": 65,
     "metadata": {},
     "output_type": "execute_result"
    }
   ],
   "source": [
    "# ?y = torch.tensor([x, x, x]) # Error\n",
    "y = torch.stack([x, x, x])\n",
    "y"
   ]
  },
  {
   "cell_type": "code",
   "execution_count": 68,
   "id": "52fe4f84",
   "metadata": {},
   "outputs": [
    {
     "data": {
      "text/plain": [
       "tensor([[[0.7822, 0.2002, 0.9914],\n",
       "         [0.9708, 0.0762, 0.8030],\n",
       "         [0.8266, 0.8080, 0.7887],\n",
       "         ...,\n",
       "         [0.5029, 0.1466, 0.1636],\n",
       "         [0.1972, 0.9417, 0.2578],\n",
       "         [0.0326, 0.8080, 0.6227]],\n",
       "\n",
       "        [[0.1984, 0.9371, 0.5322],\n",
       "         [0.5316, 0.0089, 0.7339],\n",
       "         [0.9079, 0.2277, 0.4269],\n",
       "         ...,\n",
       "         [0.5093, 0.7359, 0.1806],\n",
       "         [0.9530, 0.4296, 0.9563],\n",
       "         [0.4273, 0.3615, 0.0715]],\n",
       "\n",
       "        [[0.9195, 0.7781, 0.0610],\n",
       "         [0.6799, 0.4936, 0.3258],\n",
       "         [0.7445, 0.1823, 0.4529],\n",
       "         ...,\n",
       "         [0.0962, 0.0707, 0.7378],\n",
       "         [0.3667, 0.2441, 0.7438],\n",
       "         [0.5540, 0.7840, 0.6054]],\n",
       "\n",
       "        ...,\n",
       "\n",
       "        [[0.8095, 0.2235, 0.6817],\n",
       "         [0.0181, 0.5947, 0.8917],\n",
       "         [0.6776, 0.0791, 0.6450],\n",
       "         ...,\n",
       "         [0.1110, 0.7282, 0.0655],\n",
       "         [0.4286, 0.7855, 0.7191],\n",
       "         [0.9022, 0.6474, 0.7556]],\n",
       "\n",
       "        [[0.3316, 0.1645, 0.2187],\n",
       "         [0.8613, 0.2427, 0.0558],\n",
       "         [0.3766, 0.0158, 0.3096],\n",
       "         ...,\n",
       "         [0.0582, 0.3420, 0.6910],\n",
       "         [0.9230, 0.8573, 0.5951],\n",
       "         [0.5251, 0.7367, 0.1703]],\n",
       "\n",
       "        [[0.2249, 0.7645, 0.0423],\n",
       "         [0.4370, 0.5858, 0.9504],\n",
       "         [0.4288, 0.8289, 0.3984],\n",
       "         ...,\n",
       "         [0.5015, 0.4640, 0.4613],\n",
       "         [0.5946, 0.4106, 0.2613],\n",
       "         [0.0813, 0.9533, 0.6759]]])"
      ]
     },
     "execution_count": 68,
     "metadata": {},
     "output_type": "execute_result"
    }
   ],
   "source": [
    "x = torch.rand(224, 244, 3)\n",
    "x"
   ]
  },
  {
   "cell_type": "code",
   "execution_count": 70,
   "id": "ad700f62",
   "metadata": {},
   "outputs": [
    {
     "data": {
      "text/plain": [
       "tensor([[[0.7822, 0.1984, 0.9195,  ..., 0.8095, 0.3316, 0.2249],\n",
       "         [0.2002, 0.9371, 0.7781,  ..., 0.2235, 0.1645, 0.7645],\n",
       "         [0.9914, 0.5322, 0.0610,  ..., 0.6817, 0.2187, 0.0423]],\n",
       "\n",
       "        [[0.9708, 0.5316, 0.6799,  ..., 0.0181, 0.8613, 0.4370],\n",
       "         [0.0762, 0.0089, 0.4936,  ..., 0.5947, 0.2427, 0.5858],\n",
       "         [0.8030, 0.7339, 0.3258,  ..., 0.8917, 0.0558, 0.9504]],\n",
       "\n",
       "        [[0.8266, 0.9079, 0.7445,  ..., 0.6776, 0.3766, 0.4288],\n",
       "         [0.8080, 0.2277, 0.1823,  ..., 0.0791, 0.0158, 0.8289],\n",
       "         [0.7887, 0.4269, 0.4529,  ..., 0.6450, 0.3096, 0.3984]],\n",
       "\n",
       "        ...,\n",
       "\n",
       "        [[0.5029, 0.5093, 0.0962,  ..., 0.1110, 0.0582, 0.5015],\n",
       "         [0.1466, 0.7359, 0.0707,  ..., 0.7282, 0.3420, 0.4640],\n",
       "         [0.1636, 0.1806, 0.7378,  ..., 0.0655, 0.6910, 0.4613]],\n",
       "\n",
       "        [[0.1972, 0.9530, 0.3667,  ..., 0.4286, 0.9230, 0.5946],\n",
       "         [0.9417, 0.4296, 0.2441,  ..., 0.7855, 0.8573, 0.4106],\n",
       "         [0.2578, 0.9563, 0.7438,  ..., 0.7191, 0.5951, 0.2613]],\n",
       "\n",
       "        [[0.0326, 0.4273, 0.5540,  ..., 0.9022, 0.5251, 0.0813],\n",
       "         [0.8080, 0.3615, 0.7840,  ..., 0.6474, 0.7367, 0.9533],\n",
       "         [0.6227, 0.0715, 0.6054,  ..., 0.7556, 0.1703, 0.6759]]])"
      ]
     },
     "execution_count": 70,
     "metadata": {},
     "output_type": "execute_result"
    }
   ],
   "source": [
    "x_new = x.permute(1,2,0)\n",
    "x_new"
   ]
  },
  {
   "cell_type": "code",
   "execution_count": 71,
   "id": "6ed841ac",
   "metadata": {},
   "outputs": [],
   "source": [
    "x = torch.rand(1, 2, 1, 5)"
   ]
  },
  {
   "cell_type": "code",
   "execution_count": 77,
   "id": "c69e786b",
   "metadata": {},
   "outputs": [
    {
     "data": {
      "text/plain": [
       "torch.Size([2, 5])"
      ]
     },
     "execution_count": 77,
     "metadata": {},
     "output_type": "execute_result"
    }
   ],
   "source": [
    "x_new = x.squeeze()\n",
    "x_new.shape"
   ]
  },
  {
   "cell_type": "code",
   "execution_count": 81,
   "id": "994b28ed",
   "metadata": {},
   "outputs": [
    {
     "data": {
      "text/plain": [
       "torch.Size([2, 1, 5])"
      ]
     },
     "execution_count": 81,
     "metadata": {},
     "output_type": "execute_result"
    }
   ],
   "source": [
    "x_new.unsqueeze(dim=1).shape"
   ]
  },
  {
   "cell_type": "code",
   "execution_count": 82,
   "id": "126af6b9",
   "metadata": {},
   "outputs": [
    {
     "data": {
      "text/plain": [
       "tensor([[0.4132, 0.2646, 0.4789, 0.6656, 0.8479],\n",
       "        [0.9209, 0.4244, 0.8654, 0.0502, 0.0269]])"
      ]
     },
     "execution_count": 82,
     "metadata": {},
     "output_type": "execute_result"
    }
   ],
   "source": [
    "x_new"
   ]
  },
  {
   "cell_type": "code",
   "execution_count": 83,
   "id": "f1a9f4dc",
   "metadata": {},
   "outputs": [
    {
     "data": {
      "text/plain": [
       "tensor([0.4132, 0.2646, 0.4789, 0.6656, 0.8479])"
      ]
     },
     "execution_count": 83,
     "metadata": {},
     "output_type": "execute_result"
    }
   ],
   "source": [
    "x_new[0]"
   ]
  },
  {
   "cell_type": "code",
   "execution_count": 86,
   "id": "6f0d71b2",
   "metadata": {},
   "outputs": [],
   "source": [
    "tensor = torch.rand(244, 2, 3)"
   ]
  },
  {
   "cell_type": "code",
   "execution_count": 91,
   "id": "bfd42e1f",
   "metadata": {},
   "outputs": [
    {
     "data": {
      "text/plain": [
       "tensor([[0.2733, 0.7692, 0.6450],\n",
       "        [0.9993, 0.5260, 0.8730]])"
      ]
     },
     "execution_count": 91,
     "metadata": {},
     "output_type": "execute_result"
    }
   ],
   "source": [
    "tensor[243]"
   ]
  },
  {
   "cell_type": "code",
   "execution_count": 98,
   "id": "bdae8280",
   "metadata": {},
   "outputs": [
    {
     "data": {
      "text/plain": [
       "tensor([0.8372, 0.6701, 0.1663])"
      ]
     },
     "execution_count": 98,
     "metadata": {},
     "output_type": "execute_result"
    }
   ],
   "source": [
    "tensor[0, 1]"
   ]
  },
  {
   "cell_type": "code",
   "execution_count": 99,
   "id": "aca71bcd",
   "metadata": {},
   "outputs": [
    {
     "data": {
      "text/plain": [
       "tensor([[8.3719e-01, 6.7014e-01, 1.6627e-01],\n",
       "        [7.4982e-01, 5.8716e-01, 1.8521e-01],\n",
       "        [8.9985e-01, 9.7988e-01, 9.6187e-01],\n",
       "        [5.3488e-01, 9.2014e-01, 4.2476e-01],\n",
       "        [5.3219e-01, 2.8728e-01, 9.0336e-01],\n",
       "        [4.3397e-02, 7.9705e-01, 6.5011e-01],\n",
       "        [7.0943e-01, 8.2157e-01, 6.3904e-01],\n",
       "        [5.8551e-01, 3.0196e-01, 8.8059e-01],\n",
       "        [9.8568e-01, 8.4588e-01, 8.5635e-01],\n",
       "        [7.7500e-01, 4.8707e-01, 2.4202e-01],\n",
       "        [9.3766e-01, 9.8891e-01, 9.7752e-01],\n",
       "        [2.2332e-01, 3.1712e-01, 3.5344e-01],\n",
       "        [4.3504e-02, 6.2165e-01, 3.6704e-01],\n",
       "        [2.8073e-01, 3.6976e-01, 3.2974e-01],\n",
       "        [2.6521e-01, 6.4211e-01, 9.4909e-01],\n",
       "        [9.1556e-01, 9.9987e-01, 2.7750e-01],\n",
       "        [4.3379e-01, 1.9422e-01, 4.1571e-01],\n",
       "        [4.9121e-01, 3.5544e-02, 3.7484e-01],\n",
       "        [5.9987e-01, 7.4905e-01, 9.1803e-01],\n",
       "        [5.9308e-01, 7.2855e-01, 7.6487e-01],\n",
       "        [2.2171e-01, 6.9309e-01, 3.5491e-01],\n",
       "        [6.8461e-01, 7.3756e-01, 5.6731e-01],\n",
       "        [9.9526e-01, 9.8025e-01, 8.5825e-01],\n",
       "        [7.3477e-01, 6.0830e-01, 8.8038e-01],\n",
       "        [1.1283e-01, 7.4228e-01, 3.4055e-01],\n",
       "        [4.2206e-01, 4.8336e-01, 1.9164e-01],\n",
       "        [4.3036e-01, 1.7604e-01, 3.4138e-01],\n",
       "        [2.7528e-01, 8.0812e-04, 5.2413e-01],\n",
       "        [3.8088e-01, 8.1002e-01, 6.7045e-01],\n",
       "        [6.3369e-01, 6.1585e-01, 3.7702e-01],\n",
       "        [3.2891e-01, 8.6193e-01, 2.0431e-02],\n",
       "        [2.8969e-02, 1.1859e-02, 1.0031e-01],\n",
       "        [8.1589e-01, 7.9173e-01, 6.4185e-01],\n",
       "        [6.4212e-01, 9.0313e-01, 3.9109e-02],\n",
       "        [4.1403e-01, 3.9793e-01, 7.0509e-01],\n",
       "        [2.8710e-01, 1.0703e-01, 2.4862e-01],\n",
       "        [5.1474e-01, 8.5331e-01, 8.3562e-01],\n",
       "        [7.4234e-02, 5.2553e-01, 4.3007e-01],\n",
       "        [7.6401e-01, 8.0675e-01, 4.6257e-01],\n",
       "        [9.9245e-01, 2.1329e-01, 1.3505e-01],\n",
       "        [3.5228e-02, 7.3676e-01, 6.3830e-02],\n",
       "        [7.6042e-01, 3.3480e-01, 7.7852e-01],\n",
       "        [4.1330e-01, 8.9783e-01, 2.7455e-01],\n",
       "        [8.1806e-01, 1.4037e-01, 2.4857e-01],\n",
       "        [3.0055e-01, 4.5790e-01, 4.8161e-01],\n",
       "        [3.4353e-01, 5.2948e-01, 5.7473e-01],\n",
       "        [7.2744e-02, 6.2235e-01, 8.6709e-01],\n",
       "        [6.6730e-03, 7.5052e-01, 9.8357e-01],\n",
       "        [3.4660e-01, 7.7138e-01, 8.3369e-01],\n",
       "        [8.9111e-01, 8.0992e-01, 9.3451e-01],\n",
       "        [1.6400e-01, 6.6889e-01, 5.6924e-01],\n",
       "        [6.1382e-01, 8.8747e-02, 9.8672e-01],\n",
       "        [8.4159e-01, 3.8011e-01, 8.2443e-01],\n",
       "        [8.9249e-01, 1.5167e-01, 3.2187e-01],\n",
       "        [8.4187e-01, 2.1474e-02, 9.5461e-01],\n",
       "        [5.2047e-01, 2.4548e-01, 5.3553e-01],\n",
       "        [9.7401e-01, 3.5303e-01, 4.9471e-01],\n",
       "        [5.8949e-02, 4.5097e-01, 2.8851e-02],\n",
       "        [1.1595e-01, 1.1579e-01, 2.6995e-01],\n",
       "        [9.9243e-01, 6.1216e-01, 9.3847e-01],\n",
       "        [7.5931e-02, 6.9507e-01, 6.8917e-01],\n",
       "        [4.4601e-01, 4.0267e-01, 9.2453e-01],\n",
       "        [3.5367e-01, 2.6998e-01, 8.0561e-01],\n",
       "        [6.9804e-01, 7.1432e-02, 2.3536e-01],\n",
       "        [4.4956e-01, 5.3702e-01, 7.8299e-01],\n",
       "        [1.8034e-01, 8.6997e-01, 8.7633e-01],\n",
       "        [4.9230e-01, 2.8238e-01, 5.1517e-01],\n",
       "        [1.4498e-02, 9.9935e-01, 5.7380e-01],\n",
       "        [3.6551e-01, 6.5101e-01, 2.2843e-01],\n",
       "        [1.9776e-01, 4.4575e-01, 5.2225e-01],\n",
       "        [2.4081e-01, 2.7634e-01, 6.5935e-01],\n",
       "        [8.1152e-01, 2.1345e-01, 1.1557e-01],\n",
       "        [5.3677e-02, 2.0059e-01, 1.1751e-01],\n",
       "        [2.2368e-01, 6.6161e-01, 7.1000e-02],\n",
       "        [3.2901e-01, 3.3887e-01, 2.4913e-02],\n",
       "        [3.8053e-01, 3.7758e-01, 8.4154e-01],\n",
       "        [2.3310e-01, 6.8979e-01, 1.8134e-01],\n",
       "        [2.5637e-01, 5.2456e-01, 6.9706e-01],\n",
       "        [3.6140e-01, 5.1010e-01, 9.3221e-01],\n",
       "        [9.0238e-01, 7.3267e-01, 9.3441e-01],\n",
       "        [9.7633e-01, 4.6631e-01, 3.4200e-01],\n",
       "        [6.8020e-01, 9.3923e-01, 1.4922e-01],\n",
       "        [3.2215e-02, 4.5146e-01, 7.7119e-01],\n",
       "        [6.7678e-01, 2.3168e-01, 2.4179e-01],\n",
       "        [9.4518e-01, 1.2938e-02, 9.7204e-01],\n",
       "        [3.9728e-01, 2.8060e-01, 6.8633e-01],\n",
       "        [7.6413e-01, 1.1342e-01, 5.6660e-01],\n",
       "        [4.3649e-01, 3.6790e-02, 2.4804e-01],\n",
       "        [4.9460e-01, 3.9426e-02, 4.9442e-01],\n",
       "        [2.1643e-01, 6.3128e-01, 9.2654e-01],\n",
       "        [5.5958e-01, 3.1684e-01, 4.2480e-01],\n",
       "        [6.0344e-01, 8.3675e-01, 5.7660e-01],\n",
       "        [2.7115e-01, 7.0006e-01, 7.8079e-01],\n",
       "        [9.9344e-01, 3.4285e-01, 6.8613e-01],\n",
       "        [5.2890e-01, 4.2346e-01, 2.9490e-01],\n",
       "        [4.5102e-01, 5.3087e-01, 5.4691e-02],\n",
       "        [4.5902e-01, 8.2713e-01, 2.3949e-01],\n",
       "        [4.7782e-01, 1.9085e-02, 2.7070e-01],\n",
       "        [9.4974e-02, 6.2079e-02, 4.8188e-01],\n",
       "        [4.2244e-01, 1.0303e-01, 3.8025e-01],\n",
       "        [3.2556e-01, 7.6777e-01, 2.7443e-01],\n",
       "        [8.1680e-01, 3.9931e-02, 8.2639e-01],\n",
       "        [4.4698e-01, 4.0140e-01, 9.1352e-01],\n",
       "        [8.8867e-02, 3.6161e-01, 3.9789e-01],\n",
       "        [4.9268e-01, 7.0824e-01, 6.1878e-01],\n",
       "        [6.3410e-01, 2.0313e-01, 7.0732e-01],\n",
       "        [8.6039e-01, 8.3003e-01, 9.0708e-01],\n",
       "        [9.0362e-01, 6.9409e-01, 4.7824e-01],\n",
       "        [3.5013e-01, 5.6978e-01, 9.7407e-01],\n",
       "        [8.2397e-01, 9.6705e-01, 8.0933e-01],\n",
       "        [1.9032e-01, 5.3684e-01, 2.3413e-01],\n",
       "        [6.8237e-01, 6.2166e-01, 2.3601e-01],\n",
       "        [5.1080e-02, 2.5690e-01, 5.4449e-01],\n",
       "        [7.6655e-01, 8.6597e-01, 3.0576e-02],\n",
       "        [8.7351e-02, 2.9047e-01, 4.1215e-03],\n",
       "        [7.9051e-01, 3.4127e-01, 2.8213e-01],\n",
       "        [7.4071e-01, 4.2127e-01, 6.7387e-01],\n",
       "        [9.3502e-01, 6.5154e-01, 8.9639e-01],\n",
       "        [1.9870e-01, 5.8019e-01, 1.1487e-01],\n",
       "        [5.2089e-01, 9.1726e-01, 9.8948e-02],\n",
       "        [3.7860e-01, 9.6949e-01, 8.3968e-01],\n",
       "        [9.7405e-01, 4.7084e-01, 8.2104e-01],\n",
       "        [5.7313e-01, 6.3256e-01, 9.3646e-01],\n",
       "        [4.5470e-01, 9.9440e-01, 1.9776e-01],\n",
       "        [4.6500e-01, 5.4477e-01, 1.0663e-01],\n",
       "        [9.6710e-01, 6.5856e-01, 6.9580e-01],\n",
       "        [5.1823e-02, 1.4270e-01, 5.5851e-01],\n",
       "        [3.6860e-01, 2.9210e-01, 5.6657e-01],\n",
       "        [3.5531e-01, 1.3929e-01, 2.5560e-01],\n",
       "        [1.2378e-01, 6.6374e-01, 2.2615e-01],\n",
       "        [7.8437e-01, 5.4661e-01, 1.6210e-01],\n",
       "        [5.7374e-01, 6.9782e-01, 7.9327e-01],\n",
       "        [4.6165e-01, 5.1298e-01, 9.5849e-01],\n",
       "        [2.6166e-01, 7.3614e-01, 6.1135e-01],\n",
       "        [8.4477e-01, 1.6269e-01, 3.2066e-01],\n",
       "        [2.4222e-01, 6.0510e-01, 7.9065e-01],\n",
       "        [1.1518e-01, 6.2010e-01, 2.8981e-01],\n",
       "        [8.5030e-01, 1.7257e-01, 9.3826e-01],\n",
       "        [7.3172e-01, 9.4307e-01, 8.8523e-01],\n",
       "        [9.6307e-01, 4.9255e-01, 7.2098e-01],\n",
       "        [6.3997e-01, 8.2765e-01, 7.0198e-01],\n",
       "        [9.5193e-01, 2.5458e-01, 5.1683e-01],\n",
       "        [5.7669e-01, 8.1027e-04, 5.1656e-01],\n",
       "        [7.6848e-01, 9.4115e-01, 6.0873e-01],\n",
       "        [7.6205e-01, 5.1949e-01, 2.7067e-01],\n",
       "        [2.3408e-02, 7.5990e-01, 8.9614e-01],\n",
       "        [1.0839e-01, 1.0589e-01, 1.4647e-01],\n",
       "        [5.8696e-01, 8.6685e-01, 7.0497e-01],\n",
       "        [9.2025e-01, 8.1406e-01, 1.6465e-01],\n",
       "        [7.1087e-01, 9.7078e-02, 2.1513e-02],\n",
       "        [9.8112e-01, 7.2357e-01, 4.9769e-01],\n",
       "        [8.3875e-01, 4.4513e-01, 9.4119e-01],\n",
       "        [9.5301e-01, 7.2717e-01, 5.3285e-01],\n",
       "        [6.3922e-01, 6.1865e-02, 3.5405e-01],\n",
       "        [7.2732e-01, 1.8746e-01, 4.4331e-01],\n",
       "        [3.2803e-01, 8.6099e-01, 6.8766e-01],\n",
       "        [7.8702e-01, 7.8607e-02, 5.8838e-01],\n",
       "        [2.0721e-01, 6.4244e-03, 2.4037e-01],\n",
       "        [1.2133e-01, 6.8782e-01, 6.7707e-01],\n",
       "        [5.0372e-01, 9.3523e-01, 1.7693e-01],\n",
       "        [4.1467e-01, 2.1304e-01, 6.3442e-01],\n",
       "        [8.4274e-01, 6.1208e-01, 2.7644e-01],\n",
       "        [2.5895e-01, 6.2042e-01, 6.2251e-01],\n",
       "        [2.5485e-01, 7.4765e-01, 1.5450e-01],\n",
       "        [8.4418e-02, 9.0901e-02, 4.3581e-01],\n",
       "        [3.9511e-01, 5.8721e-01, 1.3321e-01],\n",
       "        [3.9436e-01, 9.1734e-01, 5.4685e-01],\n",
       "        [3.7263e-01, 5.4645e-02, 6.9601e-01],\n",
       "        [5.2642e-01, 8.5694e-01, 5.2434e-01],\n",
       "        [1.3294e-01, 1.9108e-01, 1.7635e-01],\n",
       "        [8.3946e-01, 3.0648e-01, 2.9232e-01],\n",
       "        [7.6646e-01, 4.6457e-01, 4.5506e-01],\n",
       "        [1.6875e-01, 9.3274e-01, 3.9425e-02],\n",
       "        [3.3204e-01, 6.4446e-02, 8.8206e-01],\n",
       "        [8.3955e-01, 2.6775e-01, 3.1321e-01],\n",
       "        [9.9131e-01, 2.7387e-01, 3.3657e-02],\n",
       "        [9.9210e-01, 3.8337e-01, 4.2588e-01],\n",
       "        [3.4568e-03, 6.4623e-01, 4.2150e-01],\n",
       "        [1.5045e-01, 8.4940e-01, 2.7277e-02],\n",
       "        [4.2697e-01, 9.3683e-01, 8.3084e-01],\n",
       "        [8.0375e-01, 6.9807e-01, 2.0403e-01],\n",
       "        [9.3731e-01, 5.4365e-01, 7.7044e-01],\n",
       "        [6.3720e-01, 3.9994e-02, 1.9461e-01],\n",
       "        [4.1083e-01, 4.9688e-01, 6.5922e-01],\n",
       "        [9.1964e-01, 4.3534e-01, 8.9323e-01],\n",
       "        [7.0149e-01, 3.2869e-01, 9.5516e-01],\n",
       "        [4.5611e-01, 8.3390e-01, 5.4620e-02],\n",
       "        [9.4834e-01, 7.9920e-01, 7.7791e-01],\n",
       "        [2.8357e-01, 7.0336e-01, 2.2460e-01],\n",
       "        [1.2632e-01, 3.8452e-01, 8.4725e-01],\n",
       "        [3.9631e-01, 3.4462e-01, 3.2362e-01],\n",
       "        [1.1265e-02, 9.1519e-01, 9.0409e-01],\n",
       "        [6.6054e-01, 6.5575e-01, 9.8740e-01],\n",
       "        [3.3236e-01, 1.8041e-01, 8.7851e-01],\n",
       "        [1.7869e-01, 1.6206e-01, 4.0311e-03],\n",
       "        [4.6481e-01, 9.3523e-01, 7.7924e-01],\n",
       "        [4.4157e-02, 3.6639e-01, 8.0989e-01],\n",
       "        [1.2071e-01, 9.1957e-01, 4.4675e-01],\n",
       "        [3.8153e-01, 1.3698e-02, 9.0025e-01],\n",
       "        [2.5358e-01, 5.9792e-01, 1.0258e-01],\n",
       "        [3.8769e-03, 1.5709e-01, 1.2690e-02],\n",
       "        [2.2520e-01, 9.1179e-01, 1.9201e-01],\n",
       "        [5.3820e-01, 1.8967e-01, 4.1403e-01],\n",
       "        [8.6977e-01, 4.7986e-01, 1.6646e-01],\n",
       "        [2.3732e-01, 5.0759e-01, 9.4934e-01],\n",
       "        [2.0845e-01, 3.6881e-01, 3.7476e-01],\n",
       "        [1.3909e-01, 7.6210e-01, 4.6268e-01],\n",
       "        [1.0697e-01, 6.8392e-01, 8.1663e-01],\n",
       "        [2.6948e-01, 5.2147e-02, 2.4389e-01],\n",
       "        [6.1352e-01, 4.1776e-01, 9.0986e-01],\n",
       "        [8.8290e-01, 7.2386e-01, 1.4245e-01],\n",
       "        [9.8026e-01, 2.5114e-01, 2.7756e-01],\n",
       "        [4.0915e-02, 7.5684e-01, 9.6711e-01],\n",
       "        [3.0529e-01, 2.4368e-01, 3.4697e-02],\n",
       "        [9.4197e-01, 9.3405e-02, 4.1313e-01],\n",
       "        [4.5073e-01, 2.5207e-01, 3.1401e-01],\n",
       "        [2.4790e-01, 1.3487e-01, 1.4430e-01],\n",
       "        [6.9212e-01, 8.8307e-01, 2.9661e-01],\n",
       "        [9.2566e-01, 9.9674e-01, 1.8502e-01],\n",
       "        [3.3855e-01, 8.1440e-01, 7.2222e-01],\n",
       "        [6.6807e-01, 6.7324e-01, 8.9653e-01],\n",
       "        [3.6490e-01, 2.5470e-01, 8.8947e-02],\n",
       "        [3.9562e-01, 3.4679e-01, 8.3997e-01],\n",
       "        [1.6612e-01, 6.8954e-01, 9.4521e-01],\n",
       "        [4.3848e-02, 3.4595e-01, 9.4474e-01],\n",
       "        [9.8462e-01, 5.1153e-01, 5.8688e-01],\n",
       "        [7.0623e-01, 8.3880e-01, 7.0054e-01],\n",
       "        [1.0149e-01, 5.4956e-01, 3.8733e-01],\n",
       "        [2.5746e-01, 2.7962e-02, 1.1463e-02],\n",
       "        [9.6166e-01, 8.4619e-01, 3.3440e-01],\n",
       "        [7.6662e-01, 4.0124e-01, 5.2229e-01],\n",
       "        [5.5290e-01, 8.5187e-02, 5.4097e-01],\n",
       "        [9.3606e-01, 2.8494e-01, 5.0944e-01],\n",
       "        [4.4671e-01, 7.9730e-01, 4.7991e-01],\n",
       "        [5.9597e-01, 5.7122e-01, 6.7379e-01],\n",
       "        [1.2202e-01, 7.0306e-02, 5.0580e-01],\n",
       "        [7.6384e-01, 9.5581e-01, 8.9201e-01],\n",
       "        [5.7462e-01, 6.9176e-01, 4.0428e-01],\n",
       "        [5.7149e-01, 3.2050e-01, 3.0119e-01],\n",
       "        [6.4682e-01, 3.4243e-01, 5.4684e-01],\n",
       "        [1.6397e-01, 1.2264e-01, 3.8960e-01],\n",
       "        [6.2700e-02, 5.4276e-01, 5.0984e-01],\n",
       "        [9.2321e-02, 8.3544e-01, 6.6677e-01],\n",
       "        [9.9933e-01, 5.2604e-01, 8.7302e-01]])"
      ]
     },
     "execution_count": 99,
     "metadata": {},
     "output_type": "execute_result"
    }
   ],
   "source": [
    "tensor[:, 1]"
   ]
  },
  {
   "cell_type": "code",
   "execution_count": 100,
   "id": "c7e2f564",
   "metadata": {},
   "outputs": [],
   "source": [
    "import numpy as np"
   ]
  },
  {
   "cell_type": "code",
   "execution_count": 110,
   "id": "cc5dc0f8",
   "metadata": {},
   "outputs": [
    {
     "data": {
      "text/plain": [
       "(array([1., 2., 3., 4., 5., 6., 7., 8.]), dtype('float64'))"
      ]
     },
     "execution_count": 110,
     "metadata": {},
     "output_type": "execute_result"
    }
   ],
   "source": [
    "array = np.arange(1., 9.)\n",
    "array, array.dtype"
   ]
  },
  {
   "cell_type": "code",
   "execution_count": 111,
   "id": "32bc2804",
   "metadata": {},
   "outputs": [
    {
     "data": {
      "text/plain": [
       "(tensor([1., 2., 3., 4., 5., 6., 7., 8.], dtype=torch.float64), torch.float64)"
      ]
     },
     "execution_count": 111,
     "metadata": {},
     "output_type": "execute_result"
    }
   ],
   "source": [
    "tensor = torch.from_numpy(array)\n",
    "tensor, tensor.dtype"
   ]
  },
  {
   "cell_type": "code",
   "execution_count": 115,
   "id": "f2480e1b",
   "metadata": {},
   "outputs": [
    {
     "data": {
      "text/plain": [
       "(tensor([1., 1., 1., 1., 1., 1., 1.]), torch.float32, device(type='cpu'))"
      ]
     },
     "execution_count": 115,
     "metadata": {},
     "output_type": "execute_result"
    }
   ],
   "source": [
    "x = torch.ones(7)\n",
    "x, x.dtype, x.device"
   ]
  },
  {
   "cell_type": "code",
   "execution_count": 117,
   "id": "51a9a6df",
   "metadata": {},
   "outputs": [
    {
     "data": {
      "text/plain": [
       "(array([1., 1., 1., 1., 1., 1., 1.], dtype=float32), dtype('float32'))"
      ]
     },
     "execution_count": 117,
     "metadata": {},
     "output_type": "execute_result"
    }
   ],
   "source": [
    "numpy_tensor = x.numpy()\n",
    "numpy_tensor, numpy_tensor.dtype"
   ]
  },
  {
   "cell_type": "code",
   "execution_count": 128,
   "id": "0790faa3",
   "metadata": {},
   "outputs": [
    {
     "data": {
      "text/plain": [
       "tensor([[0.8823, 0.9150, 0.3829, 0.9593],\n",
       "        [0.3904, 0.6009, 0.2566, 0.7936],\n",
       "        [0.9408, 0.1332, 0.9346, 0.5936]])"
      ]
     },
     "execution_count": 128,
     "metadata": {},
     "output_type": "execute_result"
    }
   ],
   "source": [
    "# Random Seed\n",
    "\n",
    "RANDOM_SEED = 42\n",
    "\n",
    "torch.manual_seed(RANDOM_SEED)\n",
    "\n",
    "ra = torch.rand(3, 4)\n",
    "ra\n"
   ]
  },
  {
   "cell_type": "code",
   "execution_count": 131,
   "id": "1b6824cc",
   "metadata": {},
   "outputs": [
    {
     "name": "stdout",
     "output_type": "stream",
     "text": [
      "tensor([[True, True, True, True],\n",
      "        [True, True, True, True],\n",
      "        [True, True, True, True]])\n"
     ]
    },
    {
     "data": {
      "text/plain": [
       "(tensor([[0.8823, 0.9150, 0.3829, 0.9593],\n",
       "         [0.3904, 0.6009, 0.2566, 0.7936],\n",
       "         [0.9408, 0.1332, 0.9346, 0.5936]]),\n",
       " tensor([[0.8823, 0.9150, 0.3829, 0.9593],\n",
       "         [0.3904, 0.6009, 0.2566, 0.7936],\n",
       "         [0.9408, 0.1332, 0.9346, 0.5936]]),\n",
       " None)"
      ]
     },
     "execution_count": 131,
     "metadata": {},
     "output_type": "execute_result"
    }
   ],
   "source": [
    "torch.manual_seed(RANDOM_SEED)\n",
    "rb = torch.rand(3, 4)\n",
    "\n",
    "\n",
    "rb, ra, print(rb == ra)"
   ]
  },
  {
   "cell_type": "code",
   "execution_count": 127,
   "id": "e516cf9d",
   "metadata": {},
   "outputs": [
    {
     "name": "stdout",
     "output_type": "stream",
     "text": [
      "tensor([[True, True, True, True],\n",
      "        [True, True, True, True],\n",
      "        [True, True, True, True]])\n",
      "tensor([[0.8823, 0.9150, 0.3829, 0.9593],\n",
      "        [0.3904, 0.6009, 0.2566, 0.7936],\n",
      "        [0.9408, 0.1332, 0.9346, 0.5936]])\n",
      "tensor([[0.8823, 0.9150, 0.3829, 0.9593],\n",
      "        [0.3904, 0.6009, 0.2566, 0.7936],\n",
      "        [0.9408, 0.1332, 0.9346, 0.5936]])\n"
     ]
    }
   ],
   "source": [
    "RANDOM_SEED = 42\n",
    "\n",
    "# Set the seed for the CPU\n",
    "torch.manual_seed(RANDOM_SEED)\n",
    "random_tensor_A = torch.rand(3, 4)\n",
    "\n",
    "# To create another random tensor with the same values, you must reset the seed\n",
    "torch.manual_seed(RANDOM_SEED)\n",
    "random_tensor_B = torch.rand(3, 4)\n",
    "\n",
    "print(random_tensor_A == random_tensor_B) # Will be all True\n",
    "print(random_tensor_A)\n",
    "print(random_tensor_B)"
   ]
  },
  {
   "cell_type": "code",
   "execution_count": null,
   "id": "0ff573da",
   "metadata": {},
   "outputs": [],
   "source": []
  }
 ],
 "metadata": {
  "kernelspec": {
   "display_name": "Python 3",
   "language": "python",
   "name": "python3"
  },
  "language_info": {
   "codemirror_mode": {
    "name": "ipython",
    "version": 3
   },
   "file_extension": ".py",
   "mimetype": "text/x-python",
   "name": "python",
   "nbconvert_exporter": "python",
   "pygments_lexer": "ipython3",
   "version": "3.10.12"
  }
 },
 "nbformat": 4,
 "nbformat_minor": 5
}
