{
 "cells": [
  {
   "cell_type": "code",
   "execution_count": 3,
   "id": "3967a1d6",
   "metadata": {},
   "outputs": [],
   "source": [
    "import torch\n",
    "import torchvision\n",
    "import torchvision.transforms as transforms\n",
    "from torch.utils.data import DataLoader"
   ]
  },
  {
   "cell_type": "code",
   "execution_count": 4,
   "id": "ad825e26",
   "metadata": {},
   "outputs": [
    {
     "name": "stdout",
     "output_type": "stream",
     "text": [
      "Files already downloaded and verified\n",
      "Files already downloaded and verified\n",
      "Files already downloaded and verified\n",
      "Files already downloaded and verified\n"
     ]
    }
   ],
   "source": [
    "transform = transforms.Compose([\n",
    "    transforms.Resize(224),  \n",
    "    transforms.ToTensor(),\n",
    "    transforms.Normalize(mean=[0.485, 0.456, 0.406], \n",
    "                         std=[0.229, 0.224, 0.225]),\n",
    "])\n",
    "\n",
    "\n",
    "# CIFAR-10\n",
    "trainset_10 = torchvision.datasets.CIFAR10(root=\"./data\", train=True, download=True, transform=transform)\n",
    "testset_10 = torchvision.datasets.CIFAR10(root=\"./data\", train=False, download=True, transform=transform)\n",
    "\n",
    "trainloader_10 = DataLoader(trainset_10, batch_size=128, shuffle=True, num_workers=2)\n",
    "testloader_10 = DataLoader(testset_10, batch_size=128, shuffle=False, num_workers=2)\n",
    "\n",
    "# CIFAR-100\n",
    "trainset_100 = torchvision.datasets.CIFAR100(root=\"./data\", train=True, download=True, transform=transform)\n",
    "testset_100 = torchvision.datasets.CIFAR100(root=\"./data\", train=False, download=True, transform=transform)\n",
    "\n",
    "trainloader_100 = DataLoader(trainset_100, batch_size=128, shuffle=True, num_workers=2)\n",
    "testloader_100 = DataLoader(testset_100, batch_size=128, shuffle=False, num_workers=2)"
   ]
  },
  {
   "cell_type": "code",
   "execution_count": 5,
   "id": "d36dc5d5",
   "metadata": {},
   "outputs": [
    {
     "name": "stdout",
     "output_type": "stream",
     "text": [
      "CIFAR-10: 50000 train samples, 10000 test samples\n",
      "CIFAR-100: 50000 train samples, 10000 test samples\n"
     ]
    }
   ],
   "source": [
    "print(\"CIFAR-10:\", len(trainset_10), \"train samples,\", len(testset_10), \"test samples\")\n",
    "print(\"CIFAR-100:\", len(trainset_100), \"train samples,\", len(testset_100), \"test samples\")"
   ]
  },
  {
   "cell_type": "code",
   "execution_count": 6,
   "id": "06779d17",
   "metadata": {},
   "outputs": [
    {
     "name": "stdout",
     "output_type": "stream",
     "text": [
      "CIFAR-10 single image shape: torch.Size([3, 224, 224])\n",
      "CIFAR-10 label: 6\n",
      "CIFAR-100 single image shape: torch.Size([3, 224, 224])\n",
      "CIFAR-100 label: 19\n"
     ]
    }
   ],
   "source": [
    "img, label = trainset_10[0]\n",
    "print(\"CIFAR-10 single image shape:\", img.shape)\n",
    "print(\"CIFAR-10 label:\", label)\n",
    "\n",
    "img, label = trainset_100[0]\n",
    "print(\"CIFAR-100 single image shape:\", img.shape)\n",
    "print(\"CIFAR-100 label:\", label)"
   ]
  },
  {
   "cell_type": "code",
   "execution_count": 7,
   "id": "80425f45",
   "metadata": {},
   "outputs": [
    {
     "name": "stdout",
     "output_type": "stream",
     "text": [
      "Trainloader (CIFAR-10) batch images shape: torch.Size([128, 3, 224, 224])\n",
      "Trainloader (CIFAR-10) batch labels shape: torch.Size([128])\n",
      "Trainloader (CIFAR-100) batch images shape: torch.Size([128, 3, 224, 224])\n",
      "Trainloader (CIFAR-100) batch labels shape: torch.Size([128])\n"
     ]
    }
   ],
   "source": [
    "images, labels = next(iter(trainloader_10))\n",
    "print(\"Trainloader (CIFAR-10) batch images shape:\", images.shape)\n",
    "print(\"Trainloader (CIFAR-10) batch labels shape:\", labels.shape)\n",
    "\n",
    "images, labels = next(iter(trainloader_100))\n",
    "print(\"Trainloader (CIFAR-100) batch images shape:\", images.shape)\n",
    "print(\"Trainloader (CIFAR-100) batch labels shape:\", labels.shape)"
   ]
  },
  {
   "cell_type": "code",
   "execution_count": 8,
   "id": "18cbbfde",
   "metadata": {},
   "outputs": [],
   "source": [
    "import torch.nn as nn"
   ]
  },
  {
   "cell_type": "code",
   "execution_count": 9,
   "id": "35b0694b",
   "metadata": {},
   "outputs": [],
   "source": [
    "class AlexNet(nn.Module):\n",
    "    def __init__(self, num_classes):\n",
    "        super().__init__()\n",
    "        self.features = nn.Sequential(\n",
    "            nn.Conv2d(3, 96, kernel_size=11, stride=4, padding=2),\n",
    "            nn.ReLU(inplace=True),\n",
    "            nn.LocalResponseNorm(5, alpha=1e-4, beta=0.75, k=2.0),\n",
    "            nn.MaxPool2d(kernel_size=3, stride=2),\n",
    "\n",
    "            nn.Conv2d(96, 256, kernel_size=5, padding=2, groups=2),\n",
    "            nn.ReLU(inplace=True),\n",
    "            nn.LocalResponseNorm(5, alpha=1e-4, beta=0.75, k=2.0),\n",
    "            nn.MaxPool2d(kernel_size=3, stride=2),\n",
    "\n",
    "            nn.Conv2d(256, 384, kernel_size=3, padding=1),\n",
    "            nn.ReLU(inplace=True),\n",
    "\n",
    "            nn.Conv2d(384, 384, kernel_size=3, padding=1, groups=2),\n",
    "            nn.ReLU(inplace=True),\n",
    "\n",
    "            nn.Conv2d(384, 256, kernel_size=3, padding=1, groups=2),\n",
    "            nn.ReLU(inplace=True),\n",
    "            nn.MaxPool2d(kernel_size=3, stride=2),\n",
    "        )\n",
    "\n",
    "        self.classifier = nn.Sequential(\n",
    "            nn.Dropout(),\n",
    "            nn.Linear(256 * 6 * 6, 4096),\n",
    "            nn.ReLU(inplace=True),\n",
    "            \n",
    "            nn.Dropout(),\n",
    "            nn.Linear(4096, 4096),\n",
    "\n",
    "            nn.ReLU(inplace=True),\n",
    "            nn.Linear(4096, num_classes),\n",
    "        )\n",
    "\n",
    "    def forward(self, x):\n",
    "        x = self.features(x)\n",
    "        x = torch.flatten(x, 1)\n",
    "        x = self.classifier(x)\n",
    "        return x"
   ]
  },
  {
   "cell_type": "code",
   "execution_count": 10,
   "id": "7db6e2d9",
   "metadata": {},
   "outputs": [],
   "source": [
    "import torch\n",
    "device = \"cuda\""
   ]
  },
  {
   "cell_type": "code",
   "execution_count": 11,
   "id": "c0f22803",
   "metadata": {},
   "outputs": [],
   "source": [
    "import torch.optim as optim\n",
    "\n",
    "model = AlexNet(num_classes=10).to(device)\n",
    "\n",
    "loss_fn = nn.CrossEntropyLoss()\n",
    "optimizer = optim.SGD(model.parameters(), lr=0.001, momentum=0.9)\n",
    "\n",
    "\n",
    "def accuracy(outputs, labels):\n",
    "    _, preds = torch.max(outputs, 1)\n",
    "    return (preds == labels).float().mean().item()"
   ]
  },
  {
   "cell_type": "code",
   "execution_count": 12,
   "id": "8c658b77",
   "metadata": {},
   "outputs": [],
   "source": [
    "def train(model, loader, criterion, optimizer, device):\n",
    "    model.train()\n",
    "    running_loss, running_acc = 0.0, 0.0\n",
    "    for images, labels in loader:\n",
    "        images, labels = images.to(device), labels.to(device)\n",
    "\n",
    "        optimizer.zero_grad()\n",
    "        outputs = model(images)\n",
    "        loss = criterion(outputs, labels)\n",
    "        loss.backward()\n",
    "        optimizer.step()\n",
    "\n",
    "        running_loss += loss.item()\n",
    "        running_acc += accuracy(outputs, labels)\n",
    "\n",
    "    return running_loss / len(loader), running_acc / len(loader)\n",
    "\n",
    "\n",
    "def test(model, loader, criterion, device):\n",
    "    model.eval()\n",
    "    running_loss, running_acc = 0.0, 0.0\n",
    "    with torch.no_grad():\n",
    "        for images, labels in loader:\n",
    "            images, labels = images.to(device), labels.to(device)\n",
    "            outputs = model(images)\n",
    "            loss = criterion(outputs, labels)\n",
    "\n",
    "            running_loss += loss.item()\n",
    "            running_acc += accuracy(outputs, labels)\n",
    "\n",
    "    return running_loss / len(loader), running_acc / len(loader)\n"
   ]
  },
  {
   "cell_type": "code",
   "execution_count": 12,
   "id": "9bdafe8f",
   "metadata": {},
   "outputs": [
    {
     "name": "stdout",
     "output_type": "stream",
     "text": [
      "Epoch [1/10] Train Loss: 2.3004, Train Acc: 14.36% | Test Loss: 2.2983, Test Acc: 20.83%\n",
      "Epoch [2/10] Train Loss: 2.2945, Train Acc: 13.54% | Test Loss: 2.2790, Test Acc: 13.22%\n",
      "Epoch [3/10] Train Loss: 2.2307, Train Acc: 15.68% | Test Loss: 2.1390, Test Acc: 23.66%\n",
      "Epoch [4/10] Train Loss: 2.0687, Train Acc: 24.83% | Test Loss: 2.0287, Test Acc: 27.03%\n",
      "Epoch [5/10] Train Loss: 1.9568, Train Acc: 27.56% | Test Loss: 1.8942, Test Acc: 31.37%\n",
      "Epoch [6/10] Train Loss: 1.8232, Train Acc: 31.76% | Test Loss: 1.7400, Test Acc: 36.59%\n",
      "Epoch [7/10] Train Loss: 1.7136, Train Acc: 36.32% | Test Loss: 1.6344, Test Acc: 39.21%\n",
      "Epoch [8/10] Train Loss: 1.6348, Train Acc: 39.66% | Test Loss: 1.6427, Test Acc: 40.26%\n",
      "Epoch [9/10] Train Loss: 1.5625, Train Acc: 42.57% | Test Loss: 1.5066, Test Acc: 44.42%\n",
      "Epoch [10/10] Train Loss: 1.4998, Train Acc: 45.13% | Test Loss: 1.4475, Test Acc: 47.25%\n"
     ]
    }
   ],
   "source": [
    "EPOCHS = 10\n",
    "for epoch in range(1, EPOCHS+1):\n",
    "    train_loss, train_acc = train(model, trainloader_10, loss_fn, optimizer, device)\n",
    "    test_loss, test_acc = test(model, testloader_10, loss_fn, device)\n",
    "\n",
    "    print(f\"Epoch [{epoch}/{EPOCHS}] \"\n",
    "          f\"Train Loss: {train_loss:.4f}, Train Acc: {train_acc*100:.2f}% \"\n",
    "          f\"| Test Loss: {test_loss:.4f}, Test Acc: {test_acc*100:.2f}%\")"
   ]
  },
  {
   "cell_type": "code",
   "execution_count": 13,
   "id": "bf0ed6a2",
   "metadata": {},
   "outputs": [
    {
     "name": "stdout",
     "output_type": "stream",
     "text": [
      "Total parameters: 56,909,194\n",
      "Trainable parameters: 56,909,194\n"
     ]
    }
   ],
   "source": [
    "total_params = sum(p.numel() for p in model.parameters())\n",
    "print(f\"Total parameters: {total_params:,}\")\n",
    "\n",
    "# Trainable params\n",
    "trainable_params = sum(p.numel() for p in model.parameters() if p.requires_grad)\n",
    "print(f\"Trainable parameters: {trainable_params:,}\")"
   ]
  }
 ],
 "metadata": {
  "kernelspec": {
   "display_name": "Python 3 (ipykernel)",
   "language": "python",
   "name": "python3"
  },
  "language_info": {
   "codemirror_mode": {
    "name": "ipython",
    "version": 3
   },
   "file_extension": ".py",
   "mimetype": "text/x-python",
   "name": "python",
   "nbconvert_exporter": "python",
   "pygments_lexer": "ipython3",
   "version": "3.11.1"
  }
 },
 "nbformat": 4,
 "nbformat_minor": 5
}
