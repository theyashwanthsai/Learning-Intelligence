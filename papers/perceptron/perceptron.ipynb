{
 "cells": [
  {
   "cell_type": "code",
   "execution_count": 1,
   "id": "06c20763",
   "metadata": {},
   "outputs": [],
   "source": [
    "import numpy as np \n",
    "import matplotlib.pyplot as plt \n",
    "from sklearn.model_selection import train_test_split\n",
    "from sklearn.datasets import load_digits"
   ]
  },
  {
   "cell_type": "code",
   "execution_count": 2,
   "id": "e58a712b",
   "metadata": {},
   "outputs": [
    {
     "name": "stdout",
     "output_type": "stream",
     "text": [
      "X.shape (360, 64)\n",
      "X:  [[ 0.  0.  5. 13.  9.  1.  0.  0.  0.  0. 13. 15. 10. 15.  5.  0.  0.  3.\n",
      "  15.  2.  0. 11.  8.  0.  0.  4. 12.  0.  0.  8.  8.  0.  0.  5.  8.  0.\n",
      "   0.  9.  8.  0.  0.  4. 11.  0.  1. 12.  7.  0.  0.  2. 14.  5. 10. 12.\n",
      "   0.  0.  0.  0.  6. 13. 10.  0.  0.  0.]\n",
      " [ 0.  0.  0. 12. 13.  5.  0.  0.  0.  0.  0. 11. 16.  9.  0.  0.  0.  0.\n",
      "   3. 15. 16.  6.  0.  0.  0.  7. 15. 16. 16.  2.  0.  0.  0.  0.  1. 16.\n",
      "  16.  3.  0.  0.  0.  0.  1. 16. 16.  6.  0.  0.  0.  0.  1. 16. 16.  6.\n",
      "   0.  0.  0.  0.  0. 11. 16. 10.  0.  0.]\n",
      " [ 0.  0.  1.  9. 15. 11.  0.  0.  0.  0. 11. 16.  8. 14.  6.  0.  0.  2.\n",
      "  16. 10.  0.  9.  9.  0.  0.  1. 16.  4.  0.  8.  8.  0.  0.  4. 16.  4.\n",
      "   0.  8.  8.  0.  0.  1. 16.  5.  1. 11.  3.  0.  0.  0. 12. 12. 10. 10.\n",
      "   0.  0.  0.  0.  1. 10. 13.  3.  0.  0.]\n",
      " [ 0.  0.  0.  0. 14. 13.  1.  0.  0.  0.  0.  5. 16. 16.  2.  0.  0.  0.\n",
      "   0. 14. 16. 12.  0.  0.  0.  1. 10. 16. 16. 12.  0.  0.  0.  3. 12. 14.\n",
      "  16.  9.  0.  0.  0.  0.  0.  5. 16. 15.  0.  0.  0.  0.  0.  4. 16. 14.\n",
      "   0.  0.  0.  0.  0.  1. 13. 16.  1.  0.]\n",
      " [ 0.  0.  3. 13. 11.  7.  0.  0.  0.  0. 11. 16. 16. 16.  2.  0.  0.  4.\n",
      "  16.  9.  1. 14.  2.  0.  0.  4. 16.  0.  0. 16.  2.  0.  0.  0. 16.  1.\n",
      "   0. 12.  8.  0.  0.  0. 15.  9.  0. 13.  6.  0.  0.  0.  9. 14.  9. 14.\n",
      "   1.  0.  0.  0.  2. 12. 13.  4.  0.  0.]]\n",
      "len of X:  64\n"
     ]
    }
   ],
   "source": [
    "digits = load_digits()\n",
    "mask = (digits.target == 0) | (digits.target == 1)\n",
    "X = digits.data[mask]\n",
    "y = digits.target[mask]\n",
    "y= np.where(y == 0, -1, 1)\n",
    "print(\"X.shape\", X.shape)\n",
    "print(\"X: \", X[:5])\n",
    "print(\"len of X: \", len(X[0]))"
   ]
  },
  {
   "cell_type": "code",
   "execution_count": 3,
   "id": "e3e40641",
   "metadata": {},
   "outputs": [],
   "source": [
    "X = (X/16.0)*2 -1"
   ]
  },
  {
   "cell_type": "code",
   "execution_count": 4,
   "id": "c01746b7",
   "metadata": {},
   "outputs": [],
   "source": [
    "X_train, X_test, y_train, y_test = train_test_split(X, y, test_size=0.3, random_state=42)"
   ]
  },
  {
   "cell_type": "code",
   "execution_count": 5,
   "id": "e8e1be1f",
   "metadata": {},
   "outputs": [
    {
     "data": {
      "text/plain": [
       "(252, 252)"
      ]
     },
     "execution_count": 5,
     "metadata": {},
     "output_type": "execute_result"
    }
   ],
   "source": [
    "X_train, y_train\n",
    "len(X_train), len(y_train)"
   ]
  },
  {
   "cell_type": "code",
   "execution_count": 6,
   "id": "07a92377",
   "metadata": {},
   "outputs": [],
   "source": [
    "class Perceptron:\n",
    "    def __init__(self, retina_size, a1_units=32, a2_units=16, r_units=1, lr=0.1, epochs=10):\n",
    "        self.retina_size = retina_size\n",
    "        self.a1_units = a1_units\n",
    "        self.a2_units = a2_units\n",
    "        self.r_units = r_units\n",
    "        self.lr = lr\n",
    "        self.epochs = epochs\n",
    "\n",
    "        # Fixed S -> A1: localized receptive fields\n",
    "        self.S_A1 = np.zeros((retina_size, a1_units))\n",
    "        for j in range(a1_units):\n",
    "            receptive_field = np.random.choice(retina_size, size=np.random.randint(4, 8), replace=False)\n",
    "            self.S_A1[receptive_field, j] = np.random.choice([-1, 1], size=len(receptive_field))\n",
    "\n",
    "        # Fixed A1 -> A2: random full connections\n",
    "        self.A1_A2 = np.random.choice([-1, 1], size=(a1_units, a2_units))\n",
    "\n",
    "        # Trainable A2 -> R weights\n",
    "        self.A2_R = np.zeros((a2_units, r_units))\n",
    "        self.bias = np.zeros(r_units)\n",
    "    \n",
    "\n",
    "    def forward(self, X):\n",
    "        # S -> A1\n",
    "        a1_input = X @ self.S_A1\n",
    "        a1_output = np.where(a1_input >= 0, 1, -1)\n",
    "\n",
    "        # A1 -> A2\n",
    "        a2_input = a1_output @ self.A1_A2\n",
    "        a2_output = np.where(a2_input >= 0, 1, -1)\n",
    "\n",
    "        # A2 -> R\n",
    "        r_input = a2_output @ self.A2_R + self.bias\n",
    "        r_output = np.where(r_input >= 0, 1, -1)\n",
    "        return a1_output, a2_output, r_output\n",
    "\n",
    "    def fit(self, X, y):\n",
    "        for _ in range(self.epochs):\n",
    "            for xi, target in zip(X, y):\n",
    "                _, a2_out, r_out = self.forward(xi.reshape(1, -1))\n",
    "                if r_out[0] != target:  # misclassified\n",
    "                    update = self.lr * target\n",
    "                    self.A2_R[:, 0] += update * a2_out.flatten()\n",
    "                    self.bias[0] += update\n",
    "\n",
    "    def predict(self, X):\n",
    "        _, _, r_out = self.forward(X)\n",
    "        return r_out.flatten()"
   ]
  },
  {
   "cell_type": "code",
   "execution_count": 7,
   "id": "128ff6bf",
   "metadata": {},
   "outputs": [],
   "source": [
    "model = Perceptron(retina_size=64, a1_units=32, a2_units=16, r_units=1, lr=0.1, epochs=10)\n",
    "\n",
    "model.fit(X_train, y_train)"
   ]
  },
  {
   "cell_type": "code",
   "execution_count": 8,
   "id": "a664429d",
   "metadata": {},
   "outputs": [
    {
     "name": "stdout",
     "output_type": "stream",
     "text": [
      "Accuracy: 0.60\n"
     ]
    }
   ],
   "source": [
    "y_pred = model.predict(X_test)\n",
    "acc = np.mean(y_pred == y_test)\n",
    "print(f\"Accuracy: {acc:.2f}\")"
   ]
  },
  {
   "cell_type": "code",
   "execution_count": 9,
   "id": "51fbea37",
   "metadata": {},
   "outputs": [
    {
     "data": {
      "image/png": "[encoded data removed]",
      "text/plain": [
       "<Figure size 800x400 with 10 Axes>"
      ]
     },
     "metadata": {},
     "output_type": "display_data"
    }
   ],
   "source": [
    "fig, axes = plt.subplots(2, 5, figsize=(8, 4))\n",
    "for ax, img, label, pred in zip(axes.ravel(), X_test, y_test, y_pred):\n",
    "    ax.imshow((img.reshape(8, 8) + 1) / 2, cmap='gray')  # scale back to [0,1] for display\n",
    "    ax.set_title(f\"True:{'0' if label==-1 else '1'} / Pred:{'0' if pred==-1 else '1'}\")\n",
    "    ax.axis('off')\n",
    "plt.tight_layout()\n",
    "plt.show()"
   ]
  }
 ],
 "metadata": {
  "kernelspec": {
   "display_name": "Python 3",
   "language": "python",
   "name": "python3"
  },
  "language_info": {
   "codemirror_mode": {
    "name": "ipython",
    "version": 3
   },
   "file_extension": ".py",
   "mimetype": "text/x-python",
   "name": "python",
   "nbconvert_exporter": "python",
   "pygments_lexer": "ipython3",
   "version": "3.11.1"
  }
 },
 "nbformat": 4,
 "nbformat_minor": 5
}
