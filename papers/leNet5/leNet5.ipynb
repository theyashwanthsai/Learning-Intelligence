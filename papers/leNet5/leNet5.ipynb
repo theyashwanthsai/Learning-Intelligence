{
 "cells": [
  {
   "cell_type": "code",
   "execution_count": 1,
   "id": "491611ad",
   "metadata": {},
   "outputs": [],
   "source": [
    "import torch \n",
    "import torch.nn as nn\n",
    "from torchvision.datasets import CIFAR10\n",
    "from torchvision.transforms import transforms"
   ]
  },
  {
   "cell_type": "code",
   "execution_count": 2,
   "id": "4b0c96e4",
   "metadata": {},
   "outputs": [
    {
     "name": "stdout",
     "output_type": "stream",
     "text": [
      "Files already downloaded and verified\n",
      "Files already downloaded and verified\n"
     ]
    }
   ],
   "source": [
    "transform_train = transforms.Compose([\n",
    "    transforms.RandomHorizontalFlip(),\n",
    "    transforms.RandomCrop(32, padding=4),\n",
    "    transforms.ToTensor(),\n",
    "    transforms.Normalize((0.5, 0.5, 0.5), (0.5, 0.5, 0.5))\n",
    "])\n",
    "\n",
    "transform_test = transforms.Compose([\n",
    "    transforms.ToTensor(),\n",
    "    transforms.Normalize((0.5, 0.5, 0.5), (0.5, 0.5, 0.5))\n",
    "])\n",
    "\n",
    "trainset = CIFAR10(root='./data', train=True, transform=transform_train, download=True)\n",
    "testset = CIFAR10(root='./data', train=False, transform=transform_test, download=True) "
   ]
  },
  {
   "cell_type": "code",
   "execution_count": 3,
   "id": "1224ebb8",
   "metadata": {},
   "outputs": [],
   "source": [
    "trainloader = torch.utils.data.DataLoader(trainset, batch_size = 64, shuffle = True, num_workers = 2) \n",
    "testloader = torch.utils.data.DataLoader(testset, batch_size = 64, shuffle=False, num_workers=2)"
   ]
  },
  {
   "cell_type": "code",
   "execution_count": 4,
   "id": "b2a3c119",
   "metadata": {},
   "outputs": [],
   "source": [
    "from torch.nn import AvgPool2d\n",
    "import torch.optim as optim\n",
    "\n",
    "class LeNet5_v0(nn.Module):\n",
    "    def __init__(self):\n",
    "        torch.manual_seed(42)\n",
    "        super().__init__()\n",
    "        self.conv_layer = nn.Sequential(\n",
    "            # c1, s2, c3, s4, c5, f6, output layer\n",
    "            nn.Conv2d(3, 6, kernel_size=5, stride=1, padding=0),\n",
    "            nn.AvgPool2d(kernel_size=2, stride=2),\n",
    "            nn.Conv2d(6, 16, kernel_size=5, stride=1, padding=0),\n",
    "            nn.AvgPool2d(kernel_size=2, stride=2),\n",
    "            nn.Conv2d(16, 120, kernel_size=5, stride=1, padding=0)\n",
    "        )\n",
    "        self.fc_layer = nn.Sequential(\n",
    "            nn.Linear(120, 84),\n",
    "            nn.Linear(84, 10)\n",
    "        )\n",
    "\n",
    "    def forward(self, X):\n",
    "        x = self.conv_layer(X)\n",
    "        x = x.view(x.size(0), -1)\n",
    "        x = self.fc_layer(x)\n",
    "        return x\n"
   ]
  },
  {
   "cell_type": "code",
   "execution_count": null,
   "id": "8cff3125",
   "metadata": {},
   "outputs": [],
   "source": [
    "model = LeNet5_v0()\n",
    "\n",
    "\n",
    "loss_fn = nn.CrossEntropyLoss()\n",
    "optimizer = optim.Adam(model.parameters(), lr=0.01)"
   ]
  },
  {
   "cell_type": "code",
   "execution_count": null,
   "id": "de3e7806",
   "metadata": {},
   "outputs": [],
   "source": [
    "def accuracy_fn(y_true, y_pred):\n",
    "    correct = (y_true == y_pred).sum().item()\n",
    "    acc = (correct / len(y_true)) * 100\n",
    "    return acc\n",
    "\n",
    "def train_step(model: torch.nn.Module,\n",
    "               data_loader: torch.utils.data.DataLoader,\n",
    "               loss_fn: torch.nn.Module,\n",
    "               optimizer: torch.optim.Optimizer,\n",
    "               accuracy_fn,\n",
    "               device: torch.device):\n",
    "\n",
    "    model.train()\n",
    "    train_loss, train_acc = 0.0, 0.0\n",
    "    model.to(device)\n",
    "\n",
    "    for batch, (X, y) in enumerate(data_loader):\n",
    "        X, y = X.to(device), y.to(device)\n",
    "\n",
    "        # 1. Forward pass\n",
    "        y_pred = model(X)\n",
    "\n",
    "        # 2. Calculate loss and accuracy\n",
    "        loss = loss_fn(y_pred, y)\n",
    "        train_loss += loss.item()\n",
    "        train_acc += accuracy_fn(y_true=y, y_pred=y_pred.argmax(dim=1))\n",
    "\n",
    "        # 3. Zero gradients\n",
    "        optimizer.zero_grad()\n",
    "\n",
    "        # 4. Backward pass\n",
    "        loss.backward()\n",
    "\n",
    "        # 5. Optimizer step\n",
    "        optimizer.step()\n",
    "\n",
    "    train_loss /= len(data_loader)\n",
    "    train_acc /= len(data_loader)\n",
    "\n",
    "    print(f\"Train loss: {train_loss:.5f} | Train accuracy: {train_acc:.2f}%\")\n",
    "    return train_loss, train_acc\n",
    "\n",
    "\n",
    "def test_step(model: torch.nn.Module,\n",
    "              data_loader: torch.utils.data.DataLoader,\n",
    "              loss_fn: torch.nn.Module,\n",
    "              accuracy_fn,\n",
    "              device: torch.device):\n",
    "\n",
    "    model.eval()\n",
    "    test_loss, test_acc = 0.0, 0.0\n",
    "    model.to(device)\n",
    "\n",
    "    with torch.inference_mode():\n",
    "        for X, y in data_loader:\n",
    "            X, y = X.to(device), y.to(device)\n",
    "\n",
    "            # 1. Forward pass\n",
    "            y_pred = model(X)\n",
    "\n",
    "            # 2. Calculate loss and accuracy\n",
    "            loss = loss_fn(y_pred, y)\n",
    "            test_loss += loss.item()\n",
    "            test_acc += accuracy_fn(y_true=y, y_pred=y_pred.argmax(dim=1))\n",
    "\n",
    "    test_loss /= len(data_loader)\n",
    "    test_acc /= len(data_loader)\n",
    "\n",
    "    print(f\"Test loss: {test_loss:.5f} | Test accuracy: {test_acc:.2f}%\")\n",
    "    return test_loss, test_acc"
   ]
  },
  {
   "cell_type": "code",
   "execution_count": null,
   "id": "85cdc2d9",
   "metadata": {},
   "outputs": [
    {
     "name": "stderr",
     "output_type": "stream",
     "text": [
      "/home/theyashwanthsai/.pyenv/versions/3.11.1/lib/python3.11/site-packages/torch/autograd/graph.py:768: UserWarning: CUDA initialization: CUDA unknown error - this may be due to an incorrectly set up environment, e.g. changing env variable CUDA_VISIBLE_DEVICES after program start. Setting the available devices to be zero. (Triggered internally at ../c10/cuda/CUDAFunctions.cpp:108.)\n",
      "  return Variable._execution_engine.run_backward(  # Calls into the C++ engine to run the backward pass\n"
     ]
    },
    {
     "name": "stdout",
     "output_type": "stream",
     "text": [
      "Train loss: 1.94225 | Train accuracy: 30.76%\n",
      "Test loss: 1.84248 | Test accuracy: 36.21%\n",
      "Epoch [1/10] Train Loss: 1.9422, Train Acc: 30.76% Test Loss: 1.8425, Test Acc: 36.21%\n",
      "Train loss: 1.90711 | Train accuracy: 32.96%\n",
      "Test loss: 1.81460 | Test accuracy: 37.04%\n",
      "Epoch [2/10] Train Loss: 1.9071, Train Acc: 32.96% Test Loss: 1.8146, Test Acc: 37.04%\n",
      "Train loss: 1.90179 | Train accuracy: 33.13%\n",
      "Test loss: 1.81513 | Test accuracy: 36.91%\n",
      "Epoch [3/10] Train Loss: 1.9018, Train Acc: 33.13% Test Loss: 1.8151, Test Acc: 36.91%\n",
      "Train loss: 1.89610 | Train accuracy: 33.53%\n",
      "Test loss: 1.80115 | Test accuracy: 37.76%\n",
      "Epoch [4/10] Train Loss: 1.8961, Train Acc: 33.53% Test Loss: 1.8012, Test Acc: 37.76%\n",
      "Train loss: 1.89413 | Train accuracy: 33.43%\n",
      "Test loss: 1.79679 | Test accuracy: 37.56%\n",
      "Epoch [5/10] Train Loss: 1.8941, Train Acc: 33.43% Test Loss: 1.7968, Test Acc: 37.56%\n",
      "Train loss: 1.89268 | Train accuracy: 33.83%\n",
      "Test loss: 1.81300 | Test accuracy: 37.07%\n",
      "Epoch [6/10] Train Loss: 1.8927, Train Acc: 33.83% Test Loss: 1.8130, Test Acc: 37.07%\n",
      "Train loss: 1.88709 | Train accuracy: 34.12%\n",
      "Test loss: 1.78873 | Test accuracy: 38.21%\n",
      "Epoch [7/10] Train Loss: 1.8871, Train Acc: 34.12% Test Loss: 1.7887, Test Acc: 38.21%\n",
      "Train loss: 1.88857 | Train accuracy: 33.66%\n",
      "Test loss: 1.80696 | Test accuracy: 38.09%\n",
      "Epoch [8/10] Train Loss: 1.8886, Train Acc: 33.66% Test Loss: 1.8070, Test Acc: 38.09%\n",
      "Train loss: 1.88567 | Train accuracy: 34.21%\n",
      "Test loss: 1.78214 | Test accuracy: 37.93%\n",
      "Epoch [9/10] Train Loss: 1.8857, Train Acc: 34.21% Test Loss: 1.7821, Test Acc: 37.93%\n",
      "Train loss: 1.88512 | Train accuracy: 34.20%\n",
      "Test loss: 1.78500 | Test accuracy: 38.02%\n",
      "Epoch [10/10] Train Loss: 1.8851, Train Acc: 34.20% Test Loss: 1.7850, Test Acc: 38.02%\n"
     ]
    }
   ],
   "source": [
    "EPOCHS = 10\n",
    "for epoch in range(EPOCHS):\n",
    "    train_loss, train_acc = train_step(model, trainloader, loss_fn, optimizer, accuracy_fn, device=\"cpu\")\n",
    "    test_loss, test_acc = test_step(model, testloader, loss_fn, accuracy_fn, device=\"cpu\")\n",
    "\n",
    "    print(f\"Epoch [{epoch+1}/{EPOCHS}] \"\n",
    "          f\"Train Loss: {train_loss:.4f}, Train Acc: {train_acc:.2f}% \"\n",
    "          f\"Test Loss: {test_loss:.4f}, Test Acc: {test_acc:.2f}%\")"
   ]
  },
  {
   "cell_type": "code",
   "execution_count": null,
   "id": "94ca79a1",
   "metadata": {},
   "outputs": [],
   "source": [
    "# Adding non linearity for better accuracy\n",
    "# Original LeNet used tanh\n",
    "\n",
    "class LeNet5_v1(nn.Module):\n",
    "    def __init__(self):\n",
    "        torch.manual_seed(42)\n",
    "        super().__init__()\n",
    "        self.conv_layer = nn.Sequential(\n",
    "            # c1, s2, c3, s4, c5, f6, output layer\n",
    "            nn.Conv2d(3, 6, kernel_size=5, stride=1, padding=0),\n",
    "            nn.ReLU(),\n",
    "            nn.AvgPool2d(kernel_size=2, stride=2),\n",
    "\n",
    "            nn.Conv2d(6, 16, kernel_size=5, stride=1, padding=0),\n",
    "            nn.ReLU(),\n",
    "            nn.AvgPool2d(kernel_size=2, stride=2),\n",
    "            \n",
    "            nn.Conv2d(16, 120, kernel_size=5, stride=1, padding=0),\n",
    "            nn.ReLU()\n",
    "        )\n",
    "        self.fc_layer = nn.Sequential(\n",
    "            nn.Linear(120, 84),\n",
    "            nn.ReLU(),\n",
    "            nn.Linear(84, 10)\n",
    "        )\n",
    "\n",
    "    def forward(self, X):\n",
    "        x = self.conv_layer(X)\n",
    "        x = x.view(x.size(0), -1)\n",
    "        x = self.fc_layer(x)\n",
    "        return x\n"
   ]
  },
  {
   "cell_type": "code",
   "execution_count": 15,
   "id": "c734a359",
   "metadata": {},
   "outputs": [],
   "source": [
    "model_1 = LeNet5_v1()\n",
    "loss_fn = nn.CrossEntropyLoss()\n",
    "optimizer = optim.Adam(params=model_1.parameters(), lr = 0.001)"
   ]
  },
  {
   "cell_type": "code",
   "execution_count": 16,
   "id": "212bb41e",
   "metadata": {},
   "outputs": [
    {
     "name": "stdout",
     "output_type": "stream",
     "text": [
      "Epoch [1/10] Train Loss: 1.7566, Train Acc: 34.63% Test Loss: 1.4941, Test Acc: 45.18%\n",
      "Epoch [2/10] Train Loss: 1.5067, Train Acc: 44.29% Test Loss: 1.3744, Test Acc: 50.06%\n",
      "Epoch [3/10] Train Loss: 1.4062, Train Acc: 48.71% Test Loss: 1.2768, Test Acc: 54.12%\n",
      "Epoch [4/10] Train Loss: 1.3385, Train Acc: 51.53% Test Loss: 1.2079, Test Acc: 56.51%\n",
      "Epoch [5/10] Train Loss: 1.2853, Train Acc: 53.59% Test Loss: 1.1738, Test Acc: 58.41%\n",
      "Epoch [6/10] Train Loss: 1.2509, Train Acc: 55.32% Test Loss: 1.1515, Test Acc: 58.28%\n",
      "Epoch [7/10] Train Loss: 1.2099, Train Acc: 56.58% Test Loss: 1.1960, Test Acc: 58.25%\n",
      "Epoch [8/10] Train Loss: 1.1858, Train Acc: 58.01% Test Loss: 1.0925, Test Acc: 61.00%\n",
      "Epoch [9/10] Train Loss: 1.1592, Train Acc: 58.59% Test Loss: 1.0652, Test Acc: 62.67%\n",
      "Epoch [10/10] Train Loss: 1.1341, Train Acc: 59.66% Test Loss: 1.0491, Test Acc: 62.70%\n"
     ]
    }
   ],
   "source": [
    "EPOCHS = 10\n",
    "for epoch in range(EPOCHS):\n",
    "    train_loss, train_acc = train_step(model_1, trainloader, loss_fn, optimizer, accuracy_fn, device=\"cpu\")\n",
    "    test_loss, test_acc = test_step(model_1, testloader, loss_fn, accuracy_fn, device=\"cpu\")\n",
    "\n",
    "    print(f\"Epoch [{epoch+1}/{EPOCHS}] \"\n",
    "          f\"Train Loss: {train_loss:.4f}, Train Acc: {train_acc:.2f}% \"\n",
    "          f\"Test Loss: {test_loss:.4f}, Test Acc: {test_acc:.2f}%\")"
   ]
  }
 ],
 "metadata": {
  "kernelspec": {
   "display_name": "Python 3",
   "language": "python",
   "name": "python3"
  },
  "language_info": {
   "codemirror_mode": {
    "name": "ipython",
    "version": 3
   },
   "file_extension": ".py",
   "mimetype": "text/x-python",
   "name": "python",
   "nbconvert_exporter": "python",
   "pygments_lexer": "ipython3",
   "version": "3.11.1"
  }
 },
 "nbformat": 4,
 "nbformat_minor": 5
}
