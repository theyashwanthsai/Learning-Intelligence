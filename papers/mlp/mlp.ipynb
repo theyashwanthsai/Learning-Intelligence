{
 "cells": [
  {
   "cell_type": "code",
   "execution_count": 1,
   "id": "00441e72",
   "metadata": {},
   "outputs": [],
   "source": [
    "import torch\n",
    "import torch.nn.functional as F\n",
    "from sklearn.datasets import load_digits\n",
    "from sklearn.preprocessing import OneHotEncoder\n",
    "from sklearn.model_selection import train_test_split\n",
    "import numpy as np"
   ]
  },
  {
   "cell_type": "code",
   "execution_count": 2,
   "id": "c035e370",
   "metadata": {},
   "outputs": [
    {
     "data": {
      "text/plain": [
       "(array([[0.    , 0.    , 0.3125, ..., 0.    , 0.    , 0.    ],\n",
       "        [0.    , 0.    , 0.    , ..., 0.625 , 0.    , 0.    ],\n",
       "        [0.    , 0.    , 0.    , ..., 1.    , 0.5625, 0.    ],\n",
       "        ...,\n",
       "        [0.    , 0.    , 0.0625, ..., 0.375 , 0.    , 0.    ],\n",
       "        [0.    , 0.    , 0.125 , ..., 0.75  , 0.    , 0.    ],\n",
       "        [0.    , 0.    , 0.625 , ..., 0.75  , 0.0625, 0.    ]],\n",
       "       dtype=float32),\n",
       " array([0, 1, 2, ..., 8, 9, 8]))"
      ]
     },
     "execution_count": 2,
     "metadata": {},
     "output_type": "execute_result"
    }
   ],
   "source": [
    "digits = load_digits()\n",
    "X = digits.data.astype('float32') / 16.0  # scale to [0,1]\n",
    "y = digits.target\n",
    "X, y"
   ]
  },
  {
   "cell_type": "code",
   "execution_count": 3,
   "id": "d3867365",
   "metadata": {},
   "outputs": [
    {
     "data": {
      "text/plain": [
       "((1437, 64), (1437,), 1437)"
      ]
     },
     "execution_count": 3,
     "metadata": {},
     "output_type": "execute_result"
    }
   ],
   "source": [
    "X_train, X_test, y_train, y_test = train_test_split(X, y, test_size=0.2, random_state=42)\n",
    "X_train.shape, y_train.shape, len(X_train)"
   ]
  },
  {
   "cell_type": "code",
   "execution_count": 4,
   "id": "dd87a237",
   "metadata": {},
   "outputs": [],
   "source": [
    "# One-hot encode labels\n",
    "enc = OneHotEncoder(sparse_output=False)\n",
    "y_train_oh = enc.fit_transform(y_train.reshape(-1, 1)).astype('float32')\n",
    "y_test_oh = enc.transform(y_test.reshape(-1, 1)).astype('float32')"
   ]
  },
  {
   "cell_type": "code",
   "execution_count": 5,
   "id": "6b7206c5",
   "metadata": {},
   "outputs": [
    {
     "name": "stderr",
     "output_type": "stream",
     "text": [
      "/home/theyashwanthsai/.pyenv/versions/3.11.1/lib/python3.11/site-packages/torch/cuda/__init__.py:128: UserWarning: CUDA initialization: CUDA unknown error - this may be due to an incorrectly set up environment, e.g. changing env variable CUDA_VISIBLE_DEVICES after program start. Setting the available devices to be zero. (Triggered internally at ../c10/cuda/CUDAFunctions.cpp:108.)\n",
      "  return torch._C._cuda_getDeviceCount() > 0\n"
     ]
    }
   ],
   "source": [
    "device = torch.device(\"cuda\" if torch.cuda.is_available() else \"cpu\")\n",
    "X_train = torch.tensor(X_train, device=device)\n",
    "y_train_oh = torch.tensor(y_train_oh, device=device)\n",
    "X_test = torch.tensor(X_test, device=device)\n",
    "y_test = torch.tensor(y_test, device=device)\n",
    "y_test_oh = torch.tensor(y_test_oh, device=device)"
   ]
  },
  {
   "cell_type": "code",
   "execution_count": null,
   "id": "4c5a07af",
   "metadata": {},
   "outputs": [],
   "source": [
    "class MLP:\n",
    "    def __init__(self, input_size, hidden_size, output_size, lr=0.5):\n",
    "        torch.manual_seed(42)\n",
    "        self.W1 = torch.randn(input_size, hidden_size, device=device) * 0.01\n",
    "        self.b1 = torch.zeros(1, hidden_size, device=device)\n",
    "        self.W2 = torch.randn(hidden_size, output_size, device=device) * 0.01\n",
    "        self.b2 = torch.zeros(1, output_size, device=device)\n",
    "        self.lr = lr\n",
    "    \n",
    "    def forward(self, X):\n",
    "        self.Z1 = X @ self.W1 + self.b1\n",
    "        self.A1 = torch.sigmoid(self.Z1)\n",
    "        self.Z2 = self.A1 @ self.W2 + self.b2\n",
    "        self.A2 = torch.sigmoid(self.Z2)\n",
    "        return self.A2\n",
    "\n",
    "    def backward(self, X, Y):\n",
    "        m = X.shape[0]\n",
    "        # Output layer\n",
    "        dA2 = (self.A2 - Y)\n",
    "        dZ2 = dA2 * self.A2 * (1 - self.A2)  # sigmoid derivative\n",
    "        dW2 = (self.A1.T @ dZ2) / m\n",
    "        db2 = torch.sum(dZ2, dim=0, keepdim=True) / m\n",
    "\n",
    "        # Hidden layer\n",
    "        dA1 = dZ2 @ self.W2.T\n",
    "        dZ1 = dA1 * self.A1 * (1 - self.A1)\n",
    "        dW1 = (X.T @ dZ1) / m\n",
    "        db1 = torch.sum(dZ1, dim=0, keepdim=True) / m\n",
    "\n",
    "        self.dW1, self.db1 = dW1, db1\n",
    "        self.dW2, self.db2 = dW2, db2\n",
    "\n",
    "    def update(self):\n",
    "        self.W1 -= self.lr * self.dW1\n",
    "        self.b1 -= self.lr * self.db1\n",
    "        self.W2 -= self.lr * self.dW2\n",
    "        self.b2 -= self.lr * self.db2\n",
    "    \n",
    "    def train(self, X, Y, epochs=50, batch_size=32):\n",
    "        for epoch in range(epochs):\n",
    "            # Shuffle\n",
    "            idx = torch.randperm(X.shape[0], device=device)\n",
    "            X, Y = X[idx], Y[idx]\n",
    "\n",
    "            for i in range(0, X.shape[0], batch_size):\n",
    "                X_batch = X[i:i+batch_size]\n",
    "                Y_batch = Y[i:i+batch_size]\n",
    "\n",
    "                self.forward(X_batch)\n",
    "                self.backward(X_batch, Y_batch)\n",
    "                self.update()\n",
    "\n",
    "            # Loss for epoch\n",
    "            with torch.no_grad():\n",
    "                y_pred = self.forward(X)\n",
    "                loss = torch.mean((y_pred - Y) ** 2).item()\n",
    "            print(f\"Epoch {epoch+1}/{epochs} - Loss: {loss:.4f}\")\n",
    "\n",
    "    def predict(self, X):\n",
    "        with torch.no_grad():\n",
    "            y_pred = self.forward(X)\n",
    "            return torch.argmax(y_pred, dim=1)"
   ]
  },
  {
   "cell_type": "code",
   "execution_count": 7,
   "id": "cb8f474a",
   "metadata": {},
   "outputs": [
    {
     "name": "stdout",
     "output_type": "stream",
     "text": [
      "Epoch 1/50 - Loss: 0.0900\n",
      "Epoch 2/50 - Loss: 0.0900\n",
      "Epoch 3/50 - Loss: 0.0900\n",
      "Epoch 4/50 - Loss: 0.0900\n",
      "Epoch 5/50 - Loss: 0.0900\n",
      "Epoch 6/50 - Loss: 0.0900\n",
      "Epoch 7/50 - Loss: 0.0900\n",
      "Epoch 8/50 - Loss: 0.0900\n",
      "Epoch 9/50 - Loss: 0.0900\n",
      "Epoch 10/50 - Loss: 0.0900\n",
      "Epoch 11/50 - Loss: 0.0899\n",
      "Epoch 12/50 - Loss: 0.0899\n",
      "Epoch 13/50 - Loss: 0.0899\n",
      "Epoch 14/50 - Loss: 0.0899\n",
      "Epoch 15/50 - Loss: 0.0899\n",
      "Epoch 16/50 - Loss: 0.0898\n",
      "Epoch 17/50 - Loss: 0.0898\n",
      "Epoch 18/50 - Loss: 0.0897\n",
      "Epoch 19/50 - Loss: 0.0897\n",
      "Epoch 20/50 - Loss: 0.0896\n",
      "Epoch 21/50 - Loss: 0.0895\n",
      "Epoch 22/50 - Loss: 0.0894\n",
      "Epoch 23/50 - Loss: 0.0892\n",
      "Epoch 24/50 - Loss: 0.0890\n",
      "Epoch 25/50 - Loss: 0.0888\n",
      "Epoch 26/50 - Loss: 0.0884\n",
      "Epoch 27/50 - Loss: 0.0879\n",
      "Epoch 28/50 - Loss: 0.0873\n",
      "Epoch 29/50 - Loss: 0.0865\n",
      "Epoch 30/50 - Loss: 0.0855\n",
      "Epoch 31/50 - Loss: 0.0843\n",
      "Epoch 32/50 - Loss: 0.0825\n",
      "Epoch 33/50 - Loss: 0.0805\n",
      "Epoch 34/50 - Loss: 0.0781\n",
      "Epoch 35/50 - Loss: 0.0755\n",
      "Epoch 36/50 - Loss: 0.0730\n",
      "Epoch 37/50 - Loss: 0.0699\n",
      "Epoch 38/50 - Loss: 0.0671\n",
      "Epoch 39/50 - Loss: 0.0645\n",
      "Epoch 40/50 - Loss: 0.0618\n",
      "Epoch 41/50 - Loss: 0.0593\n",
      "Epoch 42/50 - Loss: 0.0570\n",
      "Epoch 43/50 - Loss: 0.0551\n",
      "Epoch 44/50 - Loss: 0.0531\n",
      "Epoch 45/50 - Loss: 0.0515\n",
      "Epoch 46/50 - Loss: 0.0498\n",
      "Epoch 47/50 - Loss: 0.0484\n",
      "Epoch 48/50 - Loss: 0.0470\n",
      "Epoch 49/50 - Loss: 0.0458\n",
      "Epoch 50/50 - Loss: 0.0446\n",
      "Test Accuracy: 73.33%\n"
     ]
    }
   ],
   "source": [
    "mlp = MLP(input_size=64, hidden_size=32, output_size=10, lr=0.5)\n",
    "mlp.train(X_train, y_train_oh, epochs=50, batch_size=32)\n",
    "\n",
    "y_pred_test = mlp.predict(X_test)\n",
    "acc = torch.mean((y_pred_test == y_test).float()).item()\n",
    "print(f\"Test Accuracy: {acc * 100:.2f}%\")"
   ]
  },
  {
   "cell_type": "code",
   "execution_count": null,
   "id": "f25beb74",
   "metadata": {},
   "outputs": [],
   "source": []
  }
 ],
 "metadata": {
  "kernelspec": {
   "display_name": "Python 3",
   "language": "python",
   "name": "python3"
  },
  "language_info": {
   "codemirror_mode": {
    "name": "ipython",
    "version": 3
   },
   "file_extension": ".py",
   "mimetype": "text/x-python",
   "name": "python",
   "nbconvert_exporter": "python",
   "pygments_lexer": "ipython3",
   "version": "3.11.1"
  }
 },
 "nbformat": 4,
 "nbformat_minor": 5
}
